{
 "cells": [
  {
   "cell_type": "markdown",
   "metadata": {
    "toc": true
   },
   "source": [
    "<h1>Table of Contents<span class=\"tocSkip\"></span></h1>\n",
    "<div class=\"toc\" style=\"margin-top: 1em;\"><ul class=\"toc-item\"></ul></div>"
   ]
  },
  {
   "cell_type": "code",
   "execution_count": 15,
   "metadata": {},
   "outputs": [
    {
     "data": {
      "text/plain": [
       "<module 'utils' from '/home/marco/gdrive/research/papers/2019/matheur/utils.py'>"
      ]
     },
     "execution_count": 15,
     "metadata": {},
     "output_type": "execute_result"
    }
   ],
   "source": [
    "import os\n",
    "import time\n",
    "import pickle\n",
    "import random\n",
    "import argparse\n",
    "import urllib.request\n",
    "import feedparser\n",
    "from  urllib.request import urlopen\n",
    "\n",
    "import utils\n",
    "import importlib\n",
    "importlib.reload(utils)"
   ]
  },
  {
   "cell_type": "code",
   "execution_count": 14,
   "metadata": {},
   "outputs": [
    {
     "name": "stdout",
     "output_type": "stream",
     "text": [
      "data/pdf/arxiv/1901.01215v1.pdf exists, skipping\n",
      "1/1 of 11 downloaded ok.\n",
      "data/pdf/arxiv/1812.08598v1.pdf exists, skipping\n",
      "2/2 of 11 downloaded ok.\n",
      "data/pdf/arxiv/1606.09279v5.pdf exists, skipping\n",
      "3/3 of 11 downloaded ok.\n",
      "data/pdf/arxiv/1711.08840v1.pdf exists, skipping\n",
      "4/4 of 11 downloaded ok.\n",
      "data/pdf/arxiv/1808.09809v1.pdf exists, skipping\n",
      "5/5 of 11 downloaded ok.\n",
      "data/pdf/arxiv/1803.01930v1.pdf exists, skipping\n",
      "6/6 of 11 downloaded ok.\n",
      "data/pdf/arxiv/1404.4895v1.pdf exists, skipping\n",
      "7/7 of 11 downloaded ok.\n",
      "data/pdf/arxiv/1812.00664v1.pdf exists, skipping\n",
      "8/8 of 11 downloaded ok.\n",
      "data/pdf/arxiv/1903.01236v1.pdf exists, skipping\n",
      "9/9 of 11 downloaded ok.\n",
      "data/pdf/arxiv/1506.00211v1.pdf exists, skipping\n",
      "10/10 of 11 downloaded ok.\n",
      "data/pdf/arxiv/1803.03681v1.pdf exists, skipping\n",
      "11/11 of 11 downloaded ok.\n",
      "final number of papers downloaded okay: 11/11\n"
     ]
    }
   ],
   "source": [
    "timeout_secs = 10 # after this many seconds we give up on a paper\n",
    "if not os.path.exists(utils.Config.arxiv_dir): os.makedirs(utils.Config.arxiv_dir)\n",
    "have = set(os.listdir(utils.Config.arxiv_dir)) # get list of all pdfs we already have\n",
    "\n",
    "numok = 0\n",
    "numtot = 0\n",
    "db = pickle.load(open(utils.Config.db_dir, 'rb'))\n",
    "for pid,j in db.items():\n",
    "  \n",
    "  pdfs = [x['href'] for x in j['links'] if x['type'] == 'application/pdf']\n",
    "  assert len(pdfs) == 1\n",
    "  pdf_url = pdfs[0] + '.pdf'\n",
    "  basename = pdf_url.split('/')[-1]\n",
    "  fname = os.path.join(utils.Config.arxiv_dir, basename)\n",
    "\n",
    "  # try retrieve the pdf\n",
    "  numtot += 1\n",
    "  try:\n",
    "    if not basename in have:\n",
    "      print('fetching %s into %s' % (pdf_url, fname))\n",
    "      req = urlopen(pdf_url, None, timeout_secs)\n",
    "      with open(fname, 'wb') as fp:\n",
    "          shutil.copyfileobj(req, fp)\n",
    "      time.sleep(0.05 + random.uniform(0,0.1))\n",
    "    else:\n",
    "      print('%s exists, skipping' % (fname, ))\n",
    "    numok+=1\n",
    "  except Exception as e:\n",
    "    print('error downloading: ', pdf_url)\n",
    "    print(e)\n",
    "  \n",
    "  print('%d/%d of %d downloaded ok.' % (numok, numtot, len(db)))\n",
    "  \n",
    "print('final number of papers downloaded okay: %d/%d' % (numok, len(db)))"
   ]
  }
 ],
 "metadata": {
  "hide_input": false,
  "kernelspec": {
   "display_name": "Python 3",
   "language": "python",
   "name": "python3"
  },
  "language_info": {
   "codemirror_mode": {
    "name": "ipython",
    "version": 3
   },
   "file_extension": ".py",
   "mimetype": "text/x-python",
   "name": "python",
   "nbconvert_exporter": "python",
   "pygments_lexer": "ipython3",
   "version": "3.5.1"
  },
  "latex_envs": {
   "LaTeX_envs_menu_present": true,
   "autocomplete": true,
   "bibliofile": "biblio.bib",
   "cite_by": "apalike",
   "current_citInitial": 1,
   "eqLabelWithNumbers": true,
   "eqNumInitial": 1,
   "hotkeys": {
    "equation": "Ctrl-E",
    "itemize": "Ctrl-I"
   },
   "labels_anchors": false,
   "latex_user_defs": false,
   "report_style_numbering": false,
   "user_envs_cfg": false
  },
  "toc": {
   "nav_menu": {},
   "number_sections": true,
   "sideBar": true,
   "skip_h1_title": false,
   "toc_cell": true,
   "toc_position": {},
   "toc_section_display": "block",
   "toc_window_display": true
  },
  "varInspector": {
   "cols": {
    "lenName": 16,
    "lenType": 16,
    "lenVar": 40
   },
   "kernels_config": {
    "python": {
     "delete_cmd_postfix": "",
     "delete_cmd_prefix": "del ",
     "library": "var_list.py",
     "varRefreshCmd": "print(var_dic_list())"
    },
    "r": {
     "delete_cmd_postfix": ") ",
     "delete_cmd_prefix": "rm(",
     "library": "var_list.r",
     "varRefreshCmd": "cat(var_dic_list()) "
    }
   },
   "types_to_exclude": [
    "module",
    "function",
    "builtin_function_or_method",
    "instance",
    "_Feature"
   ],
   "window_display": false
  }
 },
 "nbformat": 4,
 "nbformat_minor": 2
}
