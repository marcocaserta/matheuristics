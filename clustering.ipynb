{
 "cells": [
  {
   "cell_type": "markdown",
   "metadata": {
    "toc": true
   },
   "source": [
    "<h1>Table of Contents<span class=\"tocSkip\"></span></h1>\n",
    "<div class=\"toc\"><ul class=\"toc-item\"><li><span><a href=\"#Clustering\" data-toc-modified-id=\"Clustering-1\"><span class=\"toc-item-num\">1&nbsp;&nbsp;</span>Clustering</a></span><ul class=\"toc-item\"><li><span><a href=\"#K-mean-Clustering\" data-toc-modified-id=\"K-mean-Clustering-1.1\"><span class=\"toc-item-num\">1.1&nbsp;&nbsp;</span>K-mean Clustering</a></span></li><li><span><a href=\"#Working-on-a-subset-of-documents\" data-toc-modified-id=\"Working-on-a-subset-of-documents-1.2\"><span class=\"toc-item-num\">1.2&nbsp;&nbsp;</span>Working on a subset of documents</a></span></li><li><span><a href=\"#DBClustering\" data-toc-modified-id=\"DBClustering-1.3\"><span class=\"toc-item-num\">1.3&nbsp;&nbsp;</span>DBClustering</a></span></li><li><span><a href=\"#HDBClustering\" data-toc-modified-id=\"HDBClustering-1.4\"><span class=\"toc-item-num\">1.4&nbsp;&nbsp;</span>HDBClustering</a></span></li><li><span><a href=\"#Hierarchical-Clustering\" data-toc-modified-id=\"Hierarchical-Clustering-1.5\"><span class=\"toc-item-num\">1.5&nbsp;&nbsp;</span>Hierarchical Clustering</a></span></li></ul></li></ul></div>"
   ]
  },
  {
   "cell_type": "markdown",
   "metadata": {},
   "source": [
    "# Clustering"
   ]
  },
  {
   "cell_type": "code",
   "execution_count": 3,
   "metadata": {
    "collapsed": true
   },
   "outputs": [],
   "source": [
    "import matplotlib.pyplot as plt\n",
    "plt.style.use('ggplot')\n",
    "from sklearn.decomposition import PCA as sklearnPCA"
   ]
  },
  {
   "cell_type": "code",
   "execution_count": 6,
   "metadata": {
    "collapsed": true
   },
   "outputs": [],
   "source": [
    "import io\n",
    "import os\n",
    "from os import path, listdir\n",
    "import pandas as pd\n",
    "from gensim.corpora import Dictionary\n",
    "import numpy as np\n",
    "from nltk import word_tokenize\n",
    "from nltk import sent_tokenize\n",
    "from nltk.corpus import stopwords\n",
    "from gensim.models import doc2vec\n",
    "from collections import namedtuple\n",
    "import nltk\n",
    "from nltk.cluster import KMeansClusterer\n",
    "import scipy.spatial.distance as ssd\n",
    "from sklearn import metrics\n",
    "import pickle\n",
    "import glob\n",
    "\n",
    "import utils\n",
    "import importlib\n",
    "importlib.reload(utils)\n",
    "\n",
    "import logging\n",
    "logging.basicConfig(format='%(asctime)s : %(levelname)s : %(message)s', level=logging.INFO)"
   ]
  },
  {
   "cell_type": "code",
   "execution_count": 7,
   "metadata": {},
   "outputs": [
    {
     "name": "stdout",
     "output_type": "stream",
     "text": [
      "Name of file with id = 35 is caserta-14\n",
      "ID of file with name = puchinger-05 is 6\n"
     ]
    }
   ],
   "source": [
    "dfMap = pd.read_csv(\"mapping.csv\")\n",
    "#print(dfMap)\n",
    "file2tag = {f:t for f,t in zip(dfMap[\"name\"],dfMap[\"id\"])}\n",
    "tag2file = {t:f for t,f in zip(dfMap[\"id\"],dfMap[\"name\"])}\n",
    "print(\"Name of file with id = {0} is {1}\".format(35,tag2file[35]))\n",
    "print(\"ID of file with name = {0} is {1}\".format(\"puchinger-05\", file2tag[\"puchinger-05\"]))"
   ]
  },
  {
   "cell_type": "code",
   "execution_count": 8,
   "metadata": {},
   "outputs": [
    {
     "name": "stdout",
     "output_type": "stream",
     "text": [
      "Processing file 'data/p/2001/taillard-01.p'\n",
      "... TAG =  ['0']  :: document length =  1999 words.\n",
      "Processing file 'data/p/2001/hansen-01.p'\n",
      "... TAG =  ['1']  :: document length =  2141 words.\n",
      "Processing file 'data/p/2003/dumitrescu-03.p'\n",
      "... TAG =  ['2']  :: document length =  5717 words.\n",
      "Processing file 'data/p/2003/fischetti-03.p'\n",
      "... TAG =  ['3']  :: document length =  3148 words.\n",
      "Processing file 'data/p/2004/fischetti-04.p'\n",
      "... TAG =  ['4']  :: document length =  2638 words.\n",
      "Processing file 'data/p/2005/danna-05.p'\n",
      "... TAG =  ['5']  :: document length =  3901 words.\n",
      "Processing file 'data/p/2005/puchinger-05.p'\n",
      "... TAG =  ['6']  :: document length =  2182 words.\n",
      "Processing file 'data/p/2006/sniedovich-06.p'\n",
      "... TAG =  ['7']  :: document length =  3784 words.\n",
      "Processing file 'data/p/2006/hansen-06.p'\n",
      "... TAG =  ['8']  :: document length =  1888 words.\n",
      "Processing file 'data/p/2007/boschetti-07.p'\n",
      "... TAG =  ['10']  :: document length =  3994 words.\n",
      "Processing file 'data/p/2007/rothberg-07.p'\n",
      "... TAG =  ['9']  :: document length =  1883 words.\n",
      "Processing file 'data/p/2008/raidl-08.p'\n",
      "... TAG =  ['11']  :: document length =  5717 words.\n",
      "Processing file 'data/p/2009/dumitrescu-09.p'\n",
      "... TAG =  ['16']  :: document length =  4978 words.\n",
      "Processing file 'data/p/2009/fischetti-09.p'\n",
      "... TAG =  ['12']  :: document length =  4446 words.\n",
      "Processing file 'data/p/2009/puchinger-09.p'\n",
      "... TAG =  ['15']  :: document length =  5271 words.\n",
      "Processing file 'data/p/2009/jourdan-09.p'\n",
      "... TAG =  ['13']  :: document length =  3117 words.\n",
      "Processing file 'data/p/2009/caserta-09.p'\n",
      "... TAG =  ['14']  :: document length =  6877 words.\n",
      "Processing file 'data/p/2010/angeletti-10.p'\n",
      "... TAG =  ['20']  :: document length =  2190 words.\n",
      "Processing file 'data/p/2010/hanafi-10.p'\n",
      "... TAG =  ['19']  :: document length =  2319 words.\n",
      "Processing file 'data/p/2010/lazic-10.p'\n",
      "... TAG =  ['18']  :: document length =  3625 words.\n",
      "Processing file 'data/p/2010/schmid-10.p'\n",
      "... TAG =  ['17']  :: document length =  2337 words.\n",
      "Processing file 'data/p/2011/perboli-11.p'\n",
      "... TAG =  ['23']  :: document length =  4491 words.\n",
      "Processing file 'data/p/2011/bollapragada-11.p'\n",
      "... TAG =  ['22']  :: document length =  3017 words.\n",
      "Processing file 'data/p/2011/blum-11.p'\n",
      "... TAG =  ['21']  :: document length =  7151 words.\n",
      "Processing file 'data/p/2013/villegas-13.p'\n",
      "... TAG =  ['27']  :: document length =  4049 words.\n",
      "Processing file 'data/p/2013/yaghini-13.p'\n",
      "... TAG =  ['24']  :: document length =  2147 words.\n",
      "Processing file 'data/p/2013/vu-13.p'\n",
      "... TAG =  ['32']  :: document length =  5047 words.\n",
      "Processing file 'data/p/2013/boussaid-13.p'\n",
      "... TAG =  ['25']  :: document length =  9185 words.\n",
      "Processing file 'data/p/2013/allaoua-13.p'\n",
      "... TAG =  ['28']  :: document length =  857 words.\n",
      "Processing file 'data/p/2013/chouman-13.p'\n",
      "... TAG =  ['29']  :: document length =  3190 words.\n",
      "Processing file 'data/p/2013/raa-13.p'\n",
      "... TAG =  ['31']  :: document length =  3184 words.\n",
      "Processing file 'data/p/2013/maras-13.p'\n",
      "... TAG =  ['30']  :: document length =  5004 words.\n",
      "Processing file 'data/p/2013/parragh-13.p'\n",
      "... TAG =  ['26']  :: document length =  2999 words.\n",
      "Processing file 'data/p/2014/dellacroce-14.p'\n",
      "... TAG =  ['43']  :: document length =  2400 words.\n",
      "Processing file 'data/p/2014/cacchiani-14.p'\n",
      "... TAG =  ['51']  :: document length =  2507 words.\n",
      "Processing file 'data/p/2014/archetti-14.p'\n",
      "... TAG =  ['37']  :: document length =  4608 words.\n",
      "Processing file 'data/p/2014/smet-14.p'\n",
      "... TAG =  ['38']  :: document length =  3023 words.\n",
      "Processing file 'data/p/2014/thiruvady-14.p'\n",
      "... TAG =  ['42']  :: document length =  139 words.\n",
      "Processing file 'data/p/2014/archetti2-14.p'\n",
      "... TAG =  ['45']  :: document length =  2857 words.\n",
      "Processing file 'data/p/2014/manerba-14.p'\n",
      "... TAG =  ['50']  :: document length =  2953 words.\n",
      "Processing file 'data/p/2014/brouer-14.p'\n",
      "... TAG =  ['34']  :: document length =  5833 words.\n",
      "Processing file 'data/p/2014/ljubic-14.p'\n",
      "... TAG =  ['48']  :: document length =  4645 words.\n",
      "Processing file 'data/p/2014/baldacci-14.p'\n",
      "... TAG =  ['47']  :: document length =  3782 words.\n",
      "Processing file 'data/p/2014/caserta-14.p'\n",
      "... TAG =  ['35']  :: document length =  3840 words.\n",
      "Processing file 'data/p/2014/dangaard-14.p'\n",
      "... TAG =  ['40']  :: document length =  5833 words.\n",
      "Processing file 'data/p/2014/lin-14.p'\n",
      "... TAG =  ['33']  :: document length =  2402 words.\n",
      "Processing file 'data/p/2014/bosco-14.p'\n",
      "... TAG =  ['49']  :: document length =  3568 words.\n",
      "Processing file 'data/p/2014/ren-14.p'\n",
      "... TAG =  ['39']  :: document length =  181 words.\n",
      "Processing file 'data/p/2014/calleja-14.p'\n",
      "... TAG =  ['41']  :: document length =  3090 words.\n",
      "Processing file 'data/p/2014/cafieri-14.p'\n",
      "... TAG =  ['36']  :: document length =  1931 words.\n",
      "Processing file 'data/p/2014/camargo-14.p'\n",
      "... TAG =  ['46']  :: document length =  4550 words.\n",
      "Processing file 'data/p/2014/vanovermeire-14.p'\n",
      "... TAG =  ['44']  :: document length =  5514 words.\n",
      "Processing file 'data/p/2015/kramer-15.p'\n",
      "... TAG =  ['67']  :: document length =  3798 words.\n",
      "Processing file 'data/p/2015/lopes-15.p'\n",
      "... TAG =  ['65']  :: document length =  2985 words.\n",
      "Processing file 'data/p/2015/fischetti-15.p'\n",
      "... TAG =  ['55']  :: document length =  2051 words.\n",
      "Processing file 'data/p/2015/lahyani-15.p'\n",
      "... TAG =  ['52']  :: document length =  369 words.\n",
      "Processing file 'data/p/2015/guerrero-15.p'\n",
      "... TAG =  ['63']  :: document length =  3547 words.\n",
      "Processing file 'data/p/2015/urrutia-15.p'\n",
      "... TAG =  ['60']  :: document length =  3247 words.\n",
      "Processing file 'data/p/2015/lannez-15.p'\n",
      "... TAG =  ['59']  :: document length =  5289 words.\n",
      "Processing file 'data/p/2015/blum-15.p'\n",
      "... TAG =  ['53']  :: document length =  133 words.\n",
      "Processing file 'data/p/2015/obal-15.p'\n",
      "... TAG =  ['66']  :: document length =  1524 words.\n",
      "Processing file 'data/p/2015/billaut-15.p'\n",
      "... TAG =  ['61']  :: document length =  2240 words.\n",
      "Processing file 'data/p/2015/stefanello-15.p'\n",
      "... TAG =  ['62']  :: document length =  2973 words.\n",
      "Processing file 'data/p/2015/raidl-15.p'\n",
      "... TAG =  ['56']  :: document length =  4887 words.\n",
      "Processing file 'data/p/2015/boschetti-15.p'\n",
      "... TAG =  ['54']  :: document length =  4000 words.\n",
      "Processing file 'data/p/2015/archetti-15.p'\n",
      "... TAG =  ['57']  :: document length =  3466 words.\n",
      "Processing file 'data/p/2015/amorin-15.p'\n",
      "... TAG =  ['58']  :: document length =  2275 words.\n",
      "Processing file 'data/p/2015/yaghini-15.p'\n",
      "... TAG =  ['64']  :: document length =  2598 words.\n",
      "Processing file 'data/p/2016/zhang-16.p'\n",
      "... TAG =  ['71']  :: document length =  5092 words.\n",
      "Processing file 'data/p/2016/hemmati-16.p'\n",
      "... TAG =  ['68']  :: document length =  4715 words.\n",
      "Processing file 'data/p/2016/haahr-16.p'\n",
      "... TAG =  ['82']  :: document length =  4381 words.\n",
      "Processing file 'data/p/2016/Lin-16.p'\n",
      "... TAG =  ['79']  :: document length =  2144 words.\n",
      "Processing file 'data/p/2016/lusby-16.p'\n",
      "... TAG =  ['74']  :: document length =  4878 words.\n",
      "Processing file 'data/p/2016/mancini-16.p'\n",
      "... TAG =  ['69']  :: document length =  3117 words.\n",
      "Processing file 'data/p/2016/lallaRuiz-16.p'\n",
      "... TAG =  ['73']  :: document length =  2635 words.\n",
      "Processing file 'data/p/2016/fonseca-16.p'\n",
      "... TAG =  ['76']  :: document length =  2712 words.\n",
      "Processing file 'data/p/2016/bertazzi-16.p'\n",
      "... TAG =  ['77']  :: document length =  3272 words.\n",
      "Processing file 'data/p/2016/arbaoui-16.p'\n",
      "... TAG =  ['83']  :: document length =  3446 words.\n",
      "Processing file 'data/p/2016/ritzinger-16.p'\n",
      "... TAG =  ['75']  :: document length =  3796 words.\n",
      "Processing file 'data/p/2016/akhmedov-16.p'\n",
      "... TAG =  ['81']  :: document length =  2440 words.\n",
      "Processing file 'data/p/2016/fischetti2-16.p'\n",
      "... TAG =  ['80']  :: document length =  2005 words.\n",
      "Processing file 'data/p/2016/lin-16.p'\n",
      "... TAG =  ['72']  :: document length =  3111 words.\n",
      "Processing file 'data/p/2016/talbi-16.p'\n",
      "... TAG =  ['70']  :: document length =  7835 words.\n",
      "Processing file 'data/p/2016/fischetti-16.p'\n",
      "... TAG =  ['78']  :: document length =  2848 words.\n",
      "Processing file 'data/p/2017/valeva-17.p'\n",
      "... TAG =  ['84']  :: document length =  3725 words.\n",
      "Processing file 'data/p/2017/lahyani-17.p'\n",
      "... TAG =  ['85']  :: document length =  4754 words.\n",
      "Processing file 'data/p/2017/christensen-17.p'\n",
      "... TAG =  ['99']  :: document length =  4362 words.\n",
      "Processing file 'data/p/2017/fanjul-17.p'\n",
      "... TAG =  ['98']  :: document length =  3836 words.\n",
      "Processing file 'data/p/2017/koc-17.p'\n",
      "... TAG =  ['88']  :: document length =  3112 words.\n",
      "Processing file 'data/p/2017/ade-17.p'\n",
      "... TAG =  ['93']  :: document length =  4974 words.\n",
      "Processing file 'data/p/2017/hill-17.p'\n",
      "... TAG =  ['87']  :: document length =  4487 words.\n",
      "Processing file 'data/p/2017/lallaRuiz.17.p'\n",
      "... TAG =  ['103']  :: document length =  3381 words.\n",
      "Processing file 'data/p/2017/wang-17.p'\n",
      "... TAG =  ['90']  :: document length =  3550 words.\n",
      "Processing file 'data/p/2017/li-17.p'\n",
      "... TAG =  ['97']  :: document length =  4279 words.\n",
      "Processing file 'data/p/2017/mancini-17.p'\n",
      "... TAG =  ['94']  :: document length =  2722 words.\n",
      "Processing file 'data/p/2017/behnamian-17.p'\n",
      "... TAG =  ['86']  :: document length =  3124 words.\n",
      "Processing file 'data/p/2017/alekseeva-17.p'\n",
      "... TAG =  ['100']  :: document length =  3773 words.\n",
      "Processing file 'data/p/2017/bruglieri-17.p'\n",
      "... TAG =  ['96']  :: document length =  964 words.\n",
      "Processing file 'data/p/2017/akbari-17.p'\n",
      "... TAG =  ['104']  :: document length =  5560 words.\n",
      "Processing file 'data/p/2017/martinez-17.p'\n",
      "... TAG =  ['92']  :: document length =  5134 words.\n",
      "Processing file 'data/p/2017/grangier-17.p'\n",
      "... TAG =  ['105']  :: document length =  3368 words.\n",
      "Processing file 'data/p/2017/guastaroba-17.p'\n",
      "... TAG =  ['91']  :: document length =  4867 words.\n",
      "Processing file 'data/p/2017/archetti-17.p'\n",
      "... TAG =  ['89']  :: document length =  82 words.\n",
      "Processing file 'data/p/2017/nishi-17.p'\n",
      "... TAG =  ['101']  :: document length =  2837 words.\n",
      "Processing file 'data/p/2017/martinez-gavara-17.p'\n",
      "... TAG =  ['106']  :: document length =  3680 words.\n",
      "Processing file 'data/p/2017/parragh-17.p'\n",
      "... TAG =  ['107']  :: document length =  4601 words.\n",
      "Processing file 'data/p/2017/kartsten-17.p'\n",
      "... TAG =  ['102']  :: document length =  3773 words.\n",
      "Processing file 'data/p/2017/sender-17.p'\n",
      "... TAG =  ['95']  :: document length =  4104 words.\n",
      "Processing file 'data/p/2018/taillard-18.p'\n",
      "... TAG =  ['119']  :: document length =  2485 words.\n",
      "Processing file 'data/p/2018/gnagi-18.p'\n",
      "... TAG =  ['121']  :: document length =  6212 words.\n",
      "Processing file 'data/p/2018/brito-18.p'\n",
      "... TAG =  ['120']  :: document length =  6319 words.\n",
      "Processing file 'data/p/2018/fuentes-18.p'\n",
      "... TAG =  ['129']  :: document length =  2246 words.\n",
      "Processing file 'data/p/2018/melchiori-18.p'\n",
      "... TAG =  ['151']  :: document length =  5021 words.\n",
      "Processing file 'data/p/2018/alburquerque-18.p'\n",
      "... TAG =  ['126']  :: document length =  2672 words.\n",
      "Processing file 'data/p/2018/decerle-18.p'\n",
      "... TAG =  ['123']  :: document length =  3921 words.\n",
      "Processing file 'data/p/2018/ghaffarinasab-18.p'\n",
      "... TAG =  ['144']  :: document length =  4283 words.\n",
      "Processing file 'data/p/2018/never-moreira-18.p'\n",
      "... TAG =  ['115']  :: document length =  6958 words.\n",
      "Processing file 'data/p/2018/zhang-18.p'\n",
      "... TAG =  ['136']  :: document length =  4058 words.\n",
      "Processing file 'data/p/2018/lersteau-18.p'\n",
      "... TAG =  ['155']  :: document length =  4445 words.\n",
      "Processing file 'data/p/2018/dupin-18.p'\n",
      "... TAG =  ['116']  :: document length =  4965 words.\n",
      "Processing file 'data/p/2018/regis-18.p'\n",
      "... TAG =  ['137']  :: document length =  3636 words.\n",
      "Processing file 'data/p/2018/woo-18.p'\n",
      "... TAG =  ['146']  :: document length =  4639 words.\n",
      "Processing file 'data/p/2018/agra-18.p'\n",
      "... TAG =  ['132']  :: document length =  3986 words.\n",
      "Processing file 'data/p/2018/sadykov-18.p'\n",
      "... TAG =  ['156']  :: document length =  5147 words.\n",
      "Processing file 'data/p/2018/caserta-18.p'\n"
     ]
    },
    {
     "name": "stdout",
     "output_type": "stream",
     "text": [
      "... TAG =  ['111']  :: document length =  4277 words.\n",
      "Processing file 'data/p/2018/hojabri.p'\n",
      "... TAG =  ['128']  :: document length =  3107 words.\n",
      "Processing file 'data/p/2018/hitoshi-18.p'\n",
      "... TAG =  ['112']  :: document length =  7166 words.\n",
      "Processing file 'data/p/2018/moench-18.p'\n",
      "... TAG =  ['114']  :: document length =  4424 words.\n",
      "Processing file 'data/p/2018/calvete-18.p'\n",
      "... TAG =  ['140']  :: document length =  2517 words.\n",
      "Processing file 'data/p/2018/cabrera-18.p'\n",
      "... TAG =  ['122']  :: document length =  4981 words.\n",
      "Processing file 'data/p/2018/paiva-18.p'\n",
      "... TAG =  ['142']  :: document length =  6494 words.\n",
      "Processing file 'data/p/2018/ta-18.p'\n",
      "... TAG =  ['118']  :: document length =  2288 words.\n",
      "Processing file 'data/p/2018/pinheiro-18.p'\n",
      "... TAG =  ['148']  :: document length =  1178 words.\n",
      "Processing file 'data/p/2018/summary.p'\n",
      "... TAG =  ['109']  :: document length =  9299 words.\n",
      "Processing file 'data/p/2018/desfontaines-18.p'\n",
      "... TAG =  ['117']  :: document length =  4945 words.\n",
      "Processing file 'data/p/2018/felberbauer-18.p'\n",
      "... TAG =  ['113']  :: document length =  5544 words.\n",
      "Processing file 'data/p/2018/mancini-18.p'\n",
      "... TAG =  ['147']  :: document length =  3039 words.\n",
      "Processing file 'data/p/2018/archetti-18.p'\n",
      "... TAG =  ['125']  :: document length =  2997 words.\n",
      "Processing file 'data/p/2018/hill-18.p'\n",
      "... TAG =  ['138']  :: document length =  3609 words.\n",
      "Processing file 'data/p/2018/wolfinger-18.p'\n",
      "... TAG =  ['131']  :: document length =  6101 words.\n",
      "Processing file 'data/p/2018/carvalho-18.p'\n",
      "... TAG =  ['127']  :: document length =  3502 words.\n",
      "Processing file 'data/p/2018/cattaruzza-18.p'\n",
      "... TAG =  ['134']  :: document length =  4967 words.\n",
      "Processing file 'data/p/2018/aldasoro-18.p'\n",
      "... TAG =  ['153']  :: document length =  3726 words.\n",
      "Processing file 'data/p/2018/cadarso-18.p'\n",
      "... TAG =  ['139']  :: document length =  6065 words.\n",
      "Processing file 'data/p/2018/wu-18.p'\n",
      "... TAG =  ['141']  :: document length =  4173 words.\n",
      "Processing file 'data/p/2018/gendron-18.p'\n",
      "... TAG =  ['108']  :: document length =  3397 words.\n",
      "Processing file 'data/p/2018/doi-18.p'\n",
      "... TAG =  ['133']  :: document length =  3939 words.\n",
      "Processing file 'data/p/2018/lindhal-18.p'\n",
      "... TAG =  ['130']  :: document length =  2945 words.\n",
      "Processing file 'data/p/2018/maenhout-18.p'\n",
      "... TAG =  ['150']  :: document length =  6358 words.\n",
      "Processing file 'data/p/2018/1-s2.0-S0377221716303952-main.p'\n",
      "... TAG =  ['149']  :: document length =  4104 words.\n",
      "Processing file 'data/p/2018/leggieri-18.p'\n",
      "... TAG =  ['154']  :: document length =  2444 words.\n",
      "Processing file 'data/p/2018/gutierrez-jarpa-18.p'\n",
      "... TAG =  ['152']  :: document length =  2459 words.\n",
      "Processing file 'data/p/2018/keshin-18.p'\n",
      "... TAG =  ['143']  :: document length =  4608 words.\n",
      "Processing file 'data/p/2018/guido-18.p'\n",
      "... TAG =  ['124']  :: document length =  6630 words.\n",
      "Processing file 'data/p/2018/irawan-18.p'\n",
      "... TAG =  ['135']  :: document length =  4028 words.\n",
      "Processing file 'data/p/2018/fischetti-18.p'\n",
      "... TAG =  ['110']  :: document length =  4855 words.\n",
      "Processing file 'data/p/2018/framinan-18.p'\n",
      "... TAG =  ['145']  :: document length =  2817 words.\n",
      "Processing file 'data/p/2019/birgin-19.p'\n",
      "... TAG =  ['165']  :: document length =  3852 words.\n",
      "Processing file 'data/p/2019/irawan-19.p'\n",
      "... TAG =  ['174']  :: document length =  5751 words.\n",
      "Processing file 'data/p/2019/guimaraes-19.p'\n",
      "... TAG =  ['160']  :: document length =  4055 words.\n",
      "Processing file 'data/p/2019/lahyani-19.p'\n",
      "... TAG =  ['180']  :: document length =  3277 words.\n",
      "Processing file 'data/p/2019/oliveira-19.p'\n",
      "... TAG =  ['188']  :: document length =  7542 words.\n",
      "Processing file 'data/p/2019/brech-19.p'\n",
      "... TAG =  ['175']  :: document length =  5290 words.\n",
      "Processing file 'data/p/2019/fonseca-19.p'\n",
      "... TAG =  ['179']  :: document length =  4098 words.\n",
      "Processing file 'data/p/2019/raidl-19.p'\n",
      "... TAG =  ['187']  :: document length =  6143 words.\n",
      "Processing file 'data/p/2019/lallaRuiz-19.p'\n",
      "... TAG =  ['163']  :: document length =  2740 words.\n",
      "Processing file 'data/p/2019/nikzad-19.p'\n",
      "... TAG =  ['189']  :: document length =  3924 words.\n",
      "Processing file 'data/p/2019/lin-19.p'\n",
      "... TAG =  ['182']  :: document length =  1950 words.\n",
      "Processing file 'data/p/2019/verbiest-19.p'\n",
      "... TAG =  ['185']  :: document length =  4012 words.\n",
      "Processing file 'data/p/2019/perumal-19.p'\n",
      "... TAG =  ['161']  :: document length =  5205 words.\n",
      "Processing file 'data/p/2019/yu-19.p'\n",
      "... TAG =  ['173']  :: document length =  5099 words.\n",
      "Processing file 'data/p/2019/bertazzi-19.p'\n",
      "... TAG =  ['177']  :: document length =  4725 words.\n",
      "Processing file 'data/p/2019/stalhane-19.p'\n",
      "... TAG =  ['157']  :: document length =  5611 words.\n",
      "Processing file 'data/p/2019/ramos-19.p'\n",
      "... TAG =  ['166']  :: document length =  5090 words.\n",
      "Processing file 'data/p/2019/cunha-19.p'\n",
      "... TAG =  ['164']  :: document length =  3502 words.\n",
      "Processing file 'data/p/2019/leggieri-19.p'\n",
      "... TAG =  ['171']  :: document length =  2444 words.\n",
      "Processing file 'data/p/2019/andersen-19.p'\n",
      "... TAG =  ['169']  :: document length =  3369 words.\n",
      "Processing file 'data/p/2019/hernandez-leandro-19.p'\n",
      "... TAG =  ['184']  :: document length =  2387 words.\n",
      "Processing file 'data/p/2019/chitsaz-19.p'\n",
      "... TAG =  ['168']  :: document length =  5539 words.\n",
      "Processing file 'data/p/2019/bagger-19.p'\n",
      "... TAG =  ['167']  :: document length =  5453 words.\n",
      "Processing file 'data/p/2019/samer-19.p'\n",
      "... TAG =  ['183']  :: document length =  4059 words.\n",
      "Processing file 'data/p/2019/christensen-19.p'\n",
      "... TAG =  ['178']  :: document length =  4726 words.\n",
      "Processing file 'data/p/2019/ghirardi-19.p'\n",
      "... TAG =  ['181']  :: document length =  3478 words.\n",
      "Processing file 'data/p/2019/woo-19.p'\n",
      "... TAG =  ['159']  :: document length =  4018 words.\n",
      "Processing file 'data/p/2019/moussavi-19.p'\n",
      "... TAG =  ['172']  :: document length =  5769 words.\n",
      "Processing file 'data/p/2019/macrina-19.p'\n",
      "... TAG =  ['162']  :: document length =  3707 words.\n",
      "Processing file 'data/p/2019/hernandez-19.p'\n",
      "... TAG =  ['176']  :: document length =  3612 words.\n",
      "Processing file 'data/p/2019/otto-19.p'\n",
      "... TAG =  ['186']  :: document length =  5018 words.\n",
      "Processing file 'data/p/2019/meisel-19.p'\n",
      "... TAG =  ['158']  :: document length =  4226 words.\n",
      "Processing file 'data/p/2019/tautenhain-19.p'\n",
      "... TAG =  ['170']  :: document length =  5547 words.\n",
      "Loaded corpus with 190 documents.\n"
     ]
    }
   ],
   "source": [
    "analyzedDocument = namedtuple('AnalyzedDocument','words tags')\n",
    "year0 = \"2001\"\n",
    "yearT = \"2019\"\n",
    "yearSet = list(range(int(year0), int(yearT)+1))\n",
    "\n",
    "corpus = []\n",
    "\n",
    "for year in yearSet:\n",
    "    \n",
    "    listOfFiles = glob.glob(path.join(utils.Config.prefix,utils.Config.p_dir,str(year),\"*.p\"))\n",
    "\n",
    "    for pFile in listOfFiles:\n",
    "\n",
    "        #print(\"Opening FILE = \", pdfFile)\n",
    "        filename = os.path.basename(pFile)\n",
    "        name, file_extension = os.path.splitext(filename)\n",
    "        ff = path.join(utils.Config.p_dir, str(year), filename)\n",
    "        print(\"Processing file '{0}'\".format(ff))\n",
    "        doc = pickle.load(open(ff, 'rb'))\n",
    "        tags = [str(file2tag[name])]\n",
    "        print(\"... TAG = \", tags, \" :: document length = \", len(doc), \"words.\")\n",
    "        corpus.append(analyzedDocument(doc,tags))\n",
    "        #input(\"aka\")\n",
    "print(\"Loaded corpus with\", len(corpus), \"documents.\")\n",
    "\n"
   ]
  },
  {
   "cell_type": "code",
   "execution_count": 9,
   "metadata": {},
   "outputs": [
    {
     "name": "stderr",
     "output_type": "stream",
     "text": [
      "2019-03-13 09:58:07,706 : INFO : loading Doc2Vec object from models/doc2vec.model\n"
     ]
    },
    {
     "name": "stdout",
     "output_type": "stream",
     "text": [
      "Loading model  models/doc2vec.model\n"
     ]
    },
    {
     "name": "stderr",
     "output_type": "stream",
     "text": [
      "2019-03-13 09:58:08,094 : INFO : loading wv recursively from models/doc2vec.model.wv.* with mmap=None\n",
      "2019-03-13 09:58:08,096 : INFO : loading trainables recursively from models/doc2vec.model.trainables.* with mmap=None\n",
      "2019-03-13 09:58:08,097 : INFO : loading docvecs recursively from models/doc2vec.model.docvecs.* with mmap=None\n",
      "2019-03-13 09:58:08,098 : INFO : loading vocabulary recursively from models/doc2vec.model.vocabulary.* with mmap=None\n",
      "2019-03-13 09:58:08,099 : INFO : loaded models/doc2vec.model\n"
     ]
    },
    {
     "name": "stdout",
     "output_type": "stream",
     "text": [
      "The model contains 834 vectors.\n"
     ]
    }
   ],
   "source": [
    "fullname = path.join(utils.Config.models_dir,utils.Config.nameModel)\n",
    "print(\"Loading model \", fullname)\n",
    "model = doc2vec.Doc2Vec.load(fullname)\n",
    "print(\"The model contains {0} vectors.\".format(len(model.docvecs)))"
   ]
  },
  {
   "cell_type": "code",
   "execution_count": 7,
   "metadata": {
    "collapsed": true
   },
   "outputs": [
    {
     "name": "stdout",
     "output_type": "stream",
     "text": [
      "Vector  0  has rank  0\n",
      "Vector  1  has rank  0\n",
      "Vector  2  has rank  1\n"
     ]
    },
    {
     "ename": "KeyboardInterrupt",
     "evalue": "",
     "output_type": "error",
     "traceback": [
      "\u001b[0;31m---------------------------------------------------------------------------\u001b[0m",
      "\u001b[0;31mKeyboardInterrupt\u001b[0m                         Traceback (most recent call last)",
      "\u001b[0;32m<ipython-input-7-0ed88eea5e9d>\u001b[0m in \u001b[0;36m<module>\u001b[0;34m()\u001b[0m\n\u001b[1;32m      3\u001b[0m     \u001b[0mx\u001b[0m \u001b[0;34m=\u001b[0m \u001b[0;34m[\u001b[0m\u001b[0;34m]\u001b[0m\u001b[0;34m\u001b[0m\u001b[0m\n\u001b[1;32m      4\u001b[0m     \u001b[0;32mfor\u001b[0m \u001b[0midx\u001b[0m \u001b[0;32min\u001b[0m \u001b[0mrange\u001b[0m\u001b[0;34m(\u001b[0m\u001b[0mlen\u001b[0m\u001b[0;34m(\u001b[0m\u001b[0mcorpus\u001b[0m\u001b[0;34m)\u001b[0m\u001b[0;34m)\u001b[0m\u001b[0;34m:\u001b[0m\u001b[0;34m\u001b[0m\u001b[0m\n\u001b[0;32m----> 5\u001b[0;31m         \u001b[0mv0\u001b[0m \u001b[0;34m=\u001b[0m \u001b[0mmodel\u001b[0m\u001b[0;34m.\u001b[0m\u001b[0minfer_vector\u001b[0m\u001b[0;34m(\u001b[0m\u001b[0mcorpus\u001b[0m\u001b[0;34m[\u001b[0m\u001b[0midx\u001b[0m\u001b[0;34m]\u001b[0m\u001b[0;34m.\u001b[0m\u001b[0mwords\u001b[0m\u001b[0;34m,\u001b[0m \u001b[0msteps\u001b[0m\u001b[0;34m=\u001b[0m\u001b[0;36m100\u001b[0m\u001b[0;34m)\u001b[0m\u001b[0;34m\u001b[0m\u001b[0m\n\u001b[0m\u001b[1;32m      6\u001b[0m         \u001b[0msims\u001b[0m \u001b[0;34m=\u001b[0m \u001b[0mmodel\u001b[0m\u001b[0;34m.\u001b[0m\u001b[0mdocvecs\u001b[0m\u001b[0;34m.\u001b[0m\u001b[0mmost_similar\u001b[0m\u001b[0;34m(\u001b[0m\u001b[0;34m[\u001b[0m\u001b[0mv0\u001b[0m\u001b[0;34m]\u001b[0m\u001b[0;34m,\u001b[0m \u001b[0mtopn\u001b[0m\u001b[0;34m=\u001b[0m\u001b[0mlen\u001b[0m\u001b[0;34m(\u001b[0m\u001b[0mcorpus\u001b[0m\u001b[0;34m)\u001b[0m\u001b[0;34m)\u001b[0m\u001b[0;34m\u001b[0m\u001b[0m\n\u001b[1;32m      7\u001b[0m         \u001b[0mrank\u001b[0m \u001b[0;34m=\u001b[0m \u001b[0;34m[\u001b[0m\u001b[0midx\u001b[0m \u001b[0;32mfor\u001b[0m \u001b[0midx\u001b[0m\u001b[0;34m,\u001b[0m\u001b[0msim\u001b[0m \u001b[0;32min\u001b[0m \u001b[0msims\u001b[0m\u001b[0;34m]\u001b[0m\u001b[0;34m.\u001b[0m\u001b[0mindex\u001b[0m\u001b[0;34m(\u001b[0m\u001b[0mstr\u001b[0m\u001b[0;34m(\u001b[0m\u001b[0midx\u001b[0m\u001b[0;34m)\u001b[0m\u001b[0;34m)\u001b[0m\u001b[0;34m\u001b[0m\u001b[0m\n",
      "\u001b[0;32m~/anaconda3/lib/python3.5/site-packages/gensim/models/doc2vec.py\u001b[0m in \u001b[0;36minfer_vector\u001b[0;34m(self, doc_words, alpha, min_alpha, steps)\u001b[0m\n\u001b[1;32m    561\u001b[0m                 train_document_dm(\n\u001b[1;32m    562\u001b[0m                     \u001b[0mself\u001b[0m\u001b[0;34m,\u001b[0m \u001b[0mdoc_words\u001b[0m\u001b[0;34m,\u001b[0m \u001b[0mdoctag_indexes\u001b[0m\u001b[0;34m,\u001b[0m \u001b[0malpha\u001b[0m\u001b[0;34m,\u001b[0m \u001b[0mwork\u001b[0m\u001b[0;34m,\u001b[0m \u001b[0mneu1\u001b[0m\u001b[0;34m,\u001b[0m\u001b[0;34m\u001b[0m\u001b[0m\n\u001b[0;32m--> 563\u001b[0;31m                     \u001b[0mlearn_words\u001b[0m\u001b[0;34m=\u001b[0m\u001b[0;32mFalse\u001b[0m\u001b[0;34m,\u001b[0m \u001b[0mlearn_hidden\u001b[0m\u001b[0;34m=\u001b[0m\u001b[0;32mFalse\u001b[0m\u001b[0;34m,\u001b[0m \u001b[0mdoctag_vectors\u001b[0m\u001b[0;34m=\u001b[0m\u001b[0mdoctag_vectors\u001b[0m\u001b[0;34m,\u001b[0m \u001b[0mdoctag_locks\u001b[0m\u001b[0;34m=\u001b[0m\u001b[0mdoctag_locks\u001b[0m\u001b[0;34m\u001b[0m\u001b[0m\n\u001b[0m\u001b[1;32m    564\u001b[0m                 )\n\u001b[1;32m    565\u001b[0m             \u001b[0malpha\u001b[0m \u001b[0;34m=\u001b[0m \u001b[0;34m(\u001b[0m\u001b[0;34m(\u001b[0m\u001b[0malpha\u001b[0m \u001b[0;34m-\u001b[0m \u001b[0mmin_alpha\u001b[0m\u001b[0;34m)\u001b[0m \u001b[0;34m/\u001b[0m \u001b[0;34m(\u001b[0m\u001b[0msteps\u001b[0m \u001b[0;34m-\u001b[0m \u001b[0mi\u001b[0m\u001b[0;34m)\u001b[0m\u001b[0;34m)\u001b[0m \u001b[0;34m+\u001b[0m \u001b[0mmin_alpha\u001b[0m\u001b[0;34m\u001b[0m\u001b[0m\n",
      "\u001b[0;31mKeyboardInterrupt\u001b[0m: "
     ]
    }
   ],
   "source": [
    "withTest = 1\n",
    "if withTest:\n",
    "    x = []\n",
    "    for idx in range(len(corpus)):\n",
    "        v0 = model.infer_vector(corpus[idx].words, steps=100)\n",
    "        sims = model.docvecs.most_similar([v0], topn=len(corpus))\n",
    "        rank = [idx for idx,sim in sims].index(str(idx))\n",
    "        x.append(rank)\n",
    "        #if idx % 5 == 0:\n",
    "        print(\"Vector \", idx, \" has rank \", rank)"
   ]
  },
  {
   "cell_type": "code",
   "execution_count": 20,
   "metadata": {},
   "outputs": [
    {
     "name": "stdout",
     "output_type": "stream",
     "text": [
      "Processing document  0\n",
      "Processing document  25\n",
      "Processing document  50\n",
      "Processing document  75\n",
      "Processing document  100\n",
      "Processing document  125\n",
      "Processing document  150\n",
      "Processing document  175\n",
      "Done.\n"
     ]
    }
   ],
   "source": [
    "vecs = []\n",
    "count = 0\n",
    "for tag in dfMap[\"id\"]:\n",
    "    if count % 25 == 0:\n",
    "        print(\"Processing document \", tag)\n",
    "    #v0 = model.docvecs[tag]\n",
    "    v0 = model.infer_vector(corpus[tag].words, steps=100)\n",
    "    vecs.append(v0)  \n",
    "    count += 1\n",
    "print(\"Done.\")   "
   ]
  },
  {
   "cell_type": "code",
   "execution_count": 35,
   "metadata": {},
   "outputs": [
    {
     "data": {
      "image/png": "[encoded data removed]",
      "text/plain": [
       "<Figure size 1440x720 with 1 Axes>"
      ]
     },
     "metadata": {},
     "output_type": "display_data"
    }
   ],
   "source": [
    "subset = [0,1,3,4,5,7,8,20,119] # 0 removed\n",
    "\n",
    "pca = sklearnPCA(n_components=2) #2-dimensional PCA\n",
    "transformed = pd.DataFrame(pca.fit_transform(vecs))\n",
    "\n",
    "fig, ax = plt.subplots(figsize=(20, 10))\n",
    "plt.scatter(transformed[0], transformed[1], c=labels, alpha=0.7)\n",
    "\n",
    "centers = pd.DataFrame(pca.fit_transform(means))\n",
    "plt.scatter(centers[0], centers[1], c=\"red\", s=100, marker=\"x\")\n",
    "#for idx in dfMap[\"id\"]:\n",
    "for idx in subset:\n",
    "    ax.annotate(str(idx), (transformed[0][idx], transformed[1][idx]), fontsize=15)\n",
    "    plt.scatter(transformed[0][idx], transformed[1][idx],s=200)\n",
    "plt.show()"
   ]
  },
  {
   "cell_type": "markdown",
   "metadata": {},
   "source": [
    "## K-mean Clustering"
   ]
  },
  {
   "cell_type": "code",
   "execution_count": 7,
   "metadata": {
    "collapsed": true
   },
   "outputs": [],
   "source": [
    "from nltk.cluster import KMeansClusterer"
   ]
  },
  {
   "cell_type": "code",
   "execution_count": 23,
   "metadata": {
    "collapsed": true
   },
   "outputs": [],
   "source": [
    "def nltkClustering(vectors, nrClusters, repeats):\n",
    "    \"\"\"\n",
    "    Use the clustering function of NLTK. The algorithm is applied on the set of vectors contained in the \n",
    "    datastructure `vectors`.\n",
    "    \"\"\"\n",
    "\n",
    "    num_clusters = nrClusters\n",
    "    kclusterer = KMeansClusterer(num_clusters, \n",
    "        distance = nltk.cluster.util.cosine_distance,\n",
    "        #distance = nltk.cluster.util.euclidean_distance,\n",
    "        repeats = repeats)\n",
    "    labels = kclusterer.cluster(vectors, assign_clusters=True)\n",
    "    score = metrics.silhouette_score(vectors, labels, metric=\"cosine\")\n",
    "    ch = metrics.calinski_harabaz_score(vectors, labels)\n",
    "    means = kclusterer.means()\n",
    "    print(\"Silhouette score (nc = {0:3d}) = {1:8.5f}. Calinski-Harabaz Score = {2:8.5f}\".format(nrClusters, score,ch))\n",
    "\n",
    "    return labels, score, ch, means"
   ]
  },
  {
   "cell_type": "code",
   "execution_count": 38,
   "metadata": {},
   "outputs": [
    {
     "name": "stdout",
     "output_type": "stream",
     "text": [
      "190\n",
      "[  8.569015     2.7273922   -2.5164745    5.3605113    2.644773\n",
      "   1.3000078   -1.8501289   -0.4228359    0.6332499   -2.1302302\n",
      "  -4.1196766   -3.5889752   -1.6300821   -0.5939034   -2.3835216\n",
      "   1.7487963   -1.3344297    1.9567813    7.518432     1.4416755\n",
      "   2.4039264   -2.3326693   -0.35974038  -3.3186064   -2.086832\n",
      "   7.8293376   -4.0765905   -2.6165967    1.6380842    1.5346016\n",
      "  -2.708416     1.2692078    3.1384268   -1.382625     2.2108817\n",
      "   0.50866383   3.3395505    3.8150408   -7.0550513    0.3326571\n",
      "   4.0301113    1.7346048    3.7408967   -5.3999543   -3.6468108\n",
      "   9.105681   -10.370741    10.627875     0.5809768   -0.01261977\n",
      "   1.5083174    0.29499245  -0.8197642   -4.809555    -4.030467\n",
      "   4.8842      -2.2947679    3.6141622   -3.1334994   -5.6247015\n",
      "  -3.6908872    1.6333992   -5.6916666   -2.3542101   -1.1798217\n",
      "  -1.0341884   -5.063253    -2.7702913    4.9268136   -2.8840718\n",
      "   2.476107     1.6269264   -1.0833923   -6.2833095    1.0680678\n",
      "  -3.9504514   -0.8176508    3.1566415    0.85756963  -1.32214\n",
      "  -2.2234225   -0.61903965   1.4610667    5.2777715    1.2870566\n",
      "   3.1734       4.0834546    2.6019557    0.6901283    5.3992214\n",
      "  -3.1858804   -2.8893046    2.859278    -7.6766896   -2.3345497\n",
      "   5.9621253   -4.0280733   -1.8262844    5.589657     3.158482  ]\n",
      "Silhouette score (nc =   3) =  0.08240. Calinski-Harabaz Score =  7.54794\n",
      "Silhouette score (nc =   4) =  0.05220. Calinski-Harabaz Score =  6.49256\n",
      "Silhouette score (nc =   5) =  0.04654. Calinski-Harabaz Score =  5.37602\n",
      "Silhouette score (nc =   6) =  0.03007. Calinski-Harabaz Score =  5.31160\n",
      "Silhouette score (nc =   7) =  0.03261. Calinski-Harabaz Score =  4.58854\n",
      "Silhouette score (nc =   8) =  0.06065. Calinski-Harabaz Score =  4.70526\n",
      "Silhouette score (nc =   9) =  0.03270. Calinski-Harabaz Score =  4.20870\n"
     ]
    }
   ],
   "source": [
    "print(len(vecs))\n",
    "for nc in range(3,10):\n",
    "    label, score, ch, means = nltkClustering(vecs, nrClusters = nc, repeats=200)\n"
   ]
  },
  {
   "cell_type": "code",
   "execution_count": 71,
   "metadata": {},
   "outputs": [
    {
     "name": "stdout",
     "output_type": "stream",
     "text": [
      "Silhouette score (nc =  10  ) =  -0.0423993\n",
      "Silhouette score (nc =  11  ) =  -0.01067\n",
      "Silhouette score (nc =  12  ) =  -0.0135621\n",
      "Silhouette score (nc =  13  ) =  -0.0444899\n",
      "Silhouette score (nc =  14  ) =  -0.00254362\n",
      "Silhouette score (nc =  15  ) =  -0.0451179\n",
      "Silhouette score (nc =  16  ) =  -0.02658\n",
      "Silhouette score (nc =  17  ) =  -0.0178666\n",
      "Silhouette score (nc =  18  ) =  -0.0194981\n",
      "Silhouette score (nc =  19  ) =  -0.0228505\n"
     ]
    }
   ],
   "source": [
    "for nc in range(10,20):\n",
    "    label, score, ch, means = nltkClustering(vecs, nrClusters = nc, repeats=50)"
   ]
  },
  {
   "cell_type": "code",
   "execution_count": 34,
   "metadata": {},
   "outputs": [
    {
     "name": "stdout",
     "output_type": "stream",
     "text": [
      "Silhouette score (nc =   3) =  0.07735. Calinski-Harabaz Score =  7.66329\n"
     ]
    }
   ],
   "source": [
    "labels, score, ch, means = nltkClustering(vecs, nrClusters = 3, repeats=50)"
   ]
  },
  {
   "cell_type": "code",
   "execution_count": 33,
   "metadata": {},
   "outputs": [
    {
     "name": "stdout",
     "output_type": "stream",
     "text": [
      "Silhouette score (nc =   6) =  0.03832. Calinski-Harabaz Score =  5.10233\n"
     ]
    }
   ],
   "source": [
    "labels, score, ch, means = nltkClustering(vecs, nrClusters = 6, repeats=200)"
   ]
  },
  {
   "cell_type": "markdown",
   "metadata": {},
   "source": [
    "Compute distance of each document to the center of its cluster."
   ]
  },
  {
   "cell_type": "code",
   "execution_count": 100,
   "metadata": {
    "collapsed": true
   },
   "outputs": [],
   "source": [
    "def compute_distances(tags, labels, means, vecs):\n",
    "    dists = []\n",
    "    for tag,lab,vv in zip(tags, labels, vecs):\n",
    "        meanVec = means[lab]\n",
    "        dd = ssd.cosine(vv,meanVec)\n",
    "        dists.append(dd)\n",
    "    return dists\n"
   ]
  },
  {
   "cell_type": "code",
   "execution_count": 169,
   "metadata": {
    "collapsed": true
   },
   "outputs": [],
   "source": [
    "dists = compute_distances(dfMap[\"id\"], labels, means, vecs)"
   ]
  },
  {
   "cell_type": "code",
   "execution_count": 170,
   "metadata": {},
   "outputs": [
    {
     "name": "stdout",
     "output_type": "stream",
     "text": [
      "   clusters  distance  id           name\n",
      "0         1  0.091041   0    taillard-01\n",
      "1         1  0.101492   1      hansen-01\n",
      "2         2  0.056678   2  dumitrescu-03\n",
      "3         2  0.066550   3   fischetti-03\n",
      "4         1  0.077153   4   fischetti-04\n"
     ]
    }
   ],
   "source": [
    "df = pd.DataFrame({\n",
    "    \"id\" : dfMap[\"id\"],\n",
    "    \"name\": dfMap[\"name\"],\n",
    "    \"clusters\": labels,\n",
    "    \"distance\": dists\n",
    "})\n",
    "print(df.head())\n",
    "df.to_csv(\"data/clustersNltk.csv\")"
   ]
  },
  {
   "cell_type": "markdown",
   "metadata": {},
   "source": [
    "Most similar words to cluster centers."
   ]
  },
  {
   "cell_type": "code",
   "execution_count": 15,
   "metadata": {},
   "outputs": [
    {
     "name": "stderr",
     "output_type": "stream",
     "text": [
      "2019-03-13 06:24:05,174 : INFO : precomputing L2-norms of word weight vectors\n"
     ]
    },
    {
     "name": "stdout",
     "output_type": "stream",
     "text": [
      "Cluster  0\n",
      "[('enigma', 0.5290223956108093), ('jette', 0.5142449736595154), ('valerie', 0.5126326084136963), ('cela', 0.4964451789855957), ('porque', 0.48747745156288147), ('leda', 0.4590805172920227), ('oppermann', 0.4542621970176697), ('usada', 0.43607133626937866), ('durante', 0.4275602698326111), ('skidding', 0.4272463917732239), ('nanomedicine', 0.4265209436416626), ('compiegne', 0.4241850972175598), ('muy', 0.4184979796409607), ('alor', 0.40430617332458496), ('dori', 0.4029772877693176), ('tanto', 0.3810116648674011), ('persona', 0.3772541582584381), ('hygiene', 0.3576318621635437), ('bosque', 0.3496694266796112), ('exa', 0.3463415801525116), ('puede', 0.3395202159881592), ('compacting', 0.32897597551345825), ('plein', 0.3266379237174988), ('rango', 0.3263890743255615), ('jde', 0.3219151198863983), ('kor', 0.32164832949638367), ('merlot', 0.3180515766143799), ('ysc', 0.3107622265815735), ('dlp', 0.31022247672080994), ('einen', 0.3070446252822876)]\n",
      "Cluster  1\n",
      "[('enigma', 0.5357196927070618), ('valerie', 0.5262216925621033), ('jette', 0.5030633211135864), ('porque', 0.4848628640174866), ('cela', 0.4843863844871521), ('oppermann', 0.47779399156570435), ('leda', 0.46557384729385376), ('nanomedicine', 0.4421530067920685), ('usada', 0.43928438425064087), ('skidding', 0.4247943162918091), ('durante', 0.40803131461143494), ('tanto', 0.40106385946273804), ('compiegne', 0.40030229091644287), ('dori', 0.39987897872924805), ('alor', 0.3990817070007324), ('persona', 0.39861953258514404), ('muy', 0.39617180824279785), ('hygiene', 0.36707666516304016), ('puede', 0.33960604667663574), ('jde', 0.3374584913253784), ('rango', 0.3366113305091858), ('exa', 0.33550286293029785), ('bosque', 0.32539209723472595), ('plein', 0.32183799147605896), ('dar', 0.3166128695011139), ('kor', 0.3144128918647766), ('merlot', 0.3138743042945862), ('dlp', 0.31016987562179565), ('rey', 0.30840998888015747), ('wurde', 0.30406349897384644)]\n",
      "Cluster  2\n",
      "[('enigma', 0.5365506410598755), ('valerie', 0.5281902551651001), ('cela', 0.48943260312080383), ('jette', 0.4748576283454895), ('nanomedicine', 0.46411794424057007), ('porque', 0.4638751149177551), ('usada', 0.44887155294418335), ('leda', 0.44653815031051636), ('oppermann', 0.4283740520477295), ('compiegne', 0.4125292897224426), ('durante', 0.40734171867370605), ('alor', 0.40041932463645935), ('skidding', 0.3951539397239685), ('tanto', 0.39258062839508057), ('muy', 0.38898780941963196), ('hygiene', 0.377996563911438), ('persona', 0.36948785185813904), ('exa', 0.3600192666053772), ('dori', 0.3589218556880951), ('jde', 0.35711804032325745), ('bosque', 0.3348847031593323), ('plein', 0.32958006858825684), ('rango', 0.3213687837123871), ('merlot', 0.31923699378967285), ('dar', 0.3191782832145691), ('rey', 0.31871941685676575), ('compacting', 0.31684496998786926), ('puede', 0.3069921135902405), ('einen', 0.3069818913936615), ('epa', 0.3044835329055786)]\n"
     ]
    }
   ],
   "source": [
    "clusters = list(set(labels))\n",
    "nClusters = len(clusters)\n",
    "for cc in clusters:\n",
    "    print(\"Cluster \", cc)\n",
    "    mm = model.wv.similar_by_vector(means[cc], topn=30)\n",
    "    print(mm)"
   ]
  },
  {
   "cell_type": "markdown",
   "metadata": {},
   "source": [
    "## Working on a subset of documents\n",
    "\n",
    "The idea is to select a subset of papers, i.e., those associated to the presentation of a general matheuristics, and work on them. We want to create a full distance matrix as well as a clustering solution."
   ]
  },
  {
   "cell_type": "code",
   "execution_count": 16,
   "metadata": {},
   "outputs": [
    {
     "name": "stdout",
     "output_type": "stream",
     "text": [
      "['taillard-01', 'hansen-01', 'fischetti-03', 'fischetti-04', 'danna-05', 'sniedovich-06', 'hansen-06', 'angeletti-10', 'taillard-18']\n",
      "9\n",
      "Silhouette score (nc =   2) =  0.05290. Calinski-Harabaz Score =  1.24883\n",
      "Best solution with 2 clusters.\n",
      "Silhouette score (nc =   3) =  0.03917. Calinski-Harabaz Score =  1.20539\n",
      "Silhouette score (nc =   4) =  0.05364. Calinski-Harabaz Score =  1.28801\n",
      "Best solution with 4 clusters.\n",
      "Silhouette score (nc =   5) =  0.08773. Calinski-Harabaz Score =  1.36295\n",
      "Best solution with 5 clusters.\n"
     ]
    },
    {
     "data": {
      "image/png": "[encoded data removed]",
      "text/plain": [
       "<Figure size 432x288 with 1 Axes>"
      ]
     },
     "metadata": {},
     "output_type": "display_data"
    }
   ],
   "source": [
    "subset = [0,1,3,4,5,7,8,20,119]\n",
    "subnames = [dfMap[\"name\"].loc[i] for i in subset]\n",
    "print(subnames)\n",
    "subvecs = [vecs[i] for i in subset]\n",
    "print(len(subvecs))\n",
    "bestScore = -1.0\n",
    "for nc in range(2,6):\n",
    "    sublabel, score, ch, submeans = nltkClustering(subvecs, nrClusters = nc, repeats=200)\n",
    "    if score > bestScore:\n",
    "        bestScore = score\n",
    "        bestLabels = sublabel\n",
    "        print(\"Best solution with {0} clusters.\".format(nc))\n",
    "\n",
    "pca = sklearnPCA(n_components=2) #2-dimensional PCA\n",
    "transformed = pd.DataFrame(pca.fit_transform(subvecs))\n",
    "plt.scatter(transformed[0], transformed[1], c=bestLabels)\n",
    "plt.show()"
   ]
  },
  {
   "cell_type": "code",
   "execution_count": 191,
   "metadata": {},
   "outputs": [
    {
     "name": "stdout",
     "output_type": "stream",
     "text": [
      "   clusters      distance   id           name\n",
      "0         0  1.558822e-01    0    taillard-01\n",
      "1         0  1.627910e-01    1      hansen-01\n",
      "2         1  7.520525e-02    3   fischetti-03\n",
      "3         1  5.557095e-02    4   fischetti-04\n",
      "4         1  1.239442e-01    5       danna-05\n",
      "5         2  2.303253e-01    7  sniedovich-06\n",
      "6         0  1.363392e-01    8      hansen-06\n",
      "7         0  1.034675e-07   20   angeletti-10\n",
      "8         1  1.594130e-01  119    taillard-18\n"
     ]
    }
   ],
   "source": [
    "dists = compute_distances(subset, bestLabels, submeans, subvecs)\n",
    "df = pd.DataFrame({\n",
    "    \"id\" : subset,\n",
    "    \"name\": subnames,\n",
    "    \"clusters\": bestLabels,\n",
    "    \"distance\": dists\n",
    "})\n",
    "print(df)"
   ]
  },
  {
   "cell_type": "markdown",
   "metadata": {},
   "source": [
    "## DBClustering\n",
    "\n",
    "The advantage of this method is that it does not force every point of the set to be assigned to a cluster. Some points can be treated as \"noise\" and are left out from the assignment. This sounds like a good idea, since it might find that only some of the users are grouped together.\n",
    "\n",
    "There are basically two versions of these types of clustering algorithms:\n",
    "- non-hierarchical: DBSCAN\n",
    "- hierarchical : HDBSCAN\n",
    "\n",
    "Below, I use both of them. As we can see, the results lead to a non-meaningful assigment. Only one cluster is created, regardless of which method and metric are used. "
   ]
  },
  {
   "cell_type": "code",
   "execution_count": 17,
   "metadata": {
    "collapsed": true
   },
   "outputs": [],
   "source": [
    "from sklearn.cluster import DBSCAN\n",
    "from sklearn import metrics\n",
    "from sklearn.datasets.samples_generator import make_blobs\n",
    "from sklearn.preprocessing import StandardScaler"
   ]
  },
  {
   "cell_type": "code",
   "execution_count": 18,
   "metadata": {},
   "outputs": [
    {
     "name": "stdout",
     "output_type": "stream",
     "text": [
      "Algo = auto\t Metric = cosine\t Nr.Cluster =   1, Silhouette =  0.00000 Calinski-Harabasz = -9.99990\n",
      "Algo = auto\t Metric = euclidean\t Nr.Cluster =  12, Silhouette =  0.00000 Calinski-Harabasz = -9.99990\n",
      "Algo = auto\t Metric = correlation\t Nr.Cluster =   1, Silhouette =  0.00000 Calinski-Harabasz = -9.99990\n",
      "Algo = auto\t Metric = matching\t Nr.Cluster =   1, Silhouette =  0.00000 Calinski-Harabasz = -9.99990\n",
      "Algo = ball_tree\t Metric = euclidean\t Nr.Cluster =  12, Silhouette =  0.00000 Calinski-Harabasz = -9.99990\n",
      "Algo = ball_tree\t Metric = matching\t Nr.Cluster =   1, Silhouette =  0.00000 Calinski-Harabasz = -9.99990\n",
      "Algo = kd_tree\t Metric = euclidean\t Nr.Cluster =  12, Silhouette =  0.00000 Calinski-Harabasz = -9.99990\n",
      "Algo = brute\t Metric = cosine\t Nr.Cluster =   1, Silhouette =  0.00000 Calinski-Harabasz = -9.99990\n",
      "Algo = brute\t Metric = euclidean\t Nr.Cluster =  12, Silhouette =  0.00000 Calinski-Harabasz = -9.99990\n",
      "Algo = brute\t Metric = correlation\t Nr.Cluster =   1, Silhouette =  0.00000 Calinski-Harabasz = -9.99990\n"
     ]
    },
    {
     "name": "stderr",
     "output_type": "stream",
     "text": [
      "/home/mcaserta/anaconda3/lib/python3.5/site-packages/sklearn/utils/validation.py:444: DataConversionWarning: Data with input dtype float32 was converted to bool by check_pairwise_arrays.\n",
      "  warnings.warn(msg, DataConversionWarning)\n"
     ]
    },
    {
     "name": "stdout",
     "output_type": "stream",
     "text": [
      "Algo = brute\t Metric = matching\t Nr.Cluster =   1, Silhouette =  0.00000 Calinski-Harabasz = -9.99990\n"
     ]
    }
   ],
   "source": [
    "#X = StandardScaler().fit_transform(vecs)\n",
    "\n",
    "algos = ['auto', 'ball_tree', 'kd_tree', 'brute']\n",
    "all_metrics = ['cosine', 'euclidean', 'correlation', 'matching']\n",
    "\n",
    "# Compute DBSCAN\n",
    "for algo in algos:\n",
    "    for mm in all_metrics:\n",
    "        X = vecs\n",
    "        try:\n",
    "            db = DBSCAN(eps=1, min_samples=2, n_jobs=-1, algorithm=algo, metric=mm).fit(X)\n",
    "        except:\n",
    "            continue\n",
    "        core_samples_mask = np.zeros_like(db.labels_, dtype=bool)\n",
    "        core_samples_mask[db.core_sample_indices_] = True\n",
    "        labels = db.labels_\n",
    "\n",
    "        # Number of clusters in labels, ignoring noise if present.\n",
    "        n_clusters_ = len(set(labels)) - (1 if -1 in labels else 0)\n",
    "        #print(labels)\n",
    "        try:\n",
    "            score = metrics.silhouette_score(X, labels, metric=mm)\n",
    "            ch = metrics.calinski_harabaz_score(vectors, labels)\n",
    "        except:\n",
    "            score = 0.0\n",
    "            ch    = -9.9999\n",
    "        print(\"Algo = {0}\\t Metric = {1}\\t Nr.Cluster = {2:3d}, Silhouette = {3:8.5f} Calinski-Harabasz = {4:8.5f}\".format(algo, mm, n_clusters_, score, ch))"
   ]
  },
  {
   "cell_type": "markdown",
   "metadata": {},
   "source": [
    "## HDBClustering\n",
    "\n",
    "A hierarchical clustering algorithm based on DBClustering."
   ]
  },
  {
   "cell_type": "code",
   "execution_count": 99,
   "metadata": {
    "collapsed": true
   },
   "outputs": [],
   "source": [
    "import hdbscan\n",
    "from sklearn.datasets import make_blobs"
   ]
  },
  {
   "cell_type": "code",
   "execution_count": 100,
   "metadata": {},
   "outputs": [
    {
     "data": {
      "text/html": [
       "<div>\n",
       "<style>\n",
       "    .dataframe thead tr:only-child th {\n",
       "        text-align: right;\n",
       "    }\n",
       "\n",
       "    .dataframe thead th {\n",
       "        text-align: left;\n",
       "    }\n",
       "\n",
       "    .dataframe tbody tr th {\n",
       "        vertical-align: top;\n",
       "    }\n",
       "</style>\n",
       "<table border=\"1\" class=\"dataframe\">\n",
       "  <thead>\n",
       "    <tr style=\"text-align: right;\">\n",
       "      <th></th>\n",
       "      <th>0</th>\n",
       "      <th>1</th>\n",
       "      <th>2</th>\n",
       "      <th>3</th>\n",
       "      <th>4</th>\n",
       "      <th>5</th>\n",
       "      <th>6</th>\n",
       "      <th>7</th>\n",
       "      <th>8</th>\n",
       "      <th>9</th>\n",
       "    </tr>\n",
       "  </thead>\n",
       "  <tbody>\n",
       "    <tr>\n",
       "      <th>0</th>\n",
       "      <td>8.383156</td>\n",
       "      <td>-8.277472</td>\n",
       "      <td>-1.806924</td>\n",
       "      <td>-4.294713</td>\n",
       "      <td>8.048482</td>\n",
       "      <td>-8.736692</td>\n",
       "      <td>-5.298942</td>\n",
       "      <td>-7.140613</td>\n",
       "      <td>-1.446901</td>\n",
       "      <td>7.622145</td>\n",
       "    </tr>\n",
       "    <tr>\n",
       "      <th>1</th>\n",
       "      <td>7.820244</td>\n",
       "      <td>5.547277</td>\n",
       "      <td>-7.719892</td>\n",
       "      <td>10.660296</td>\n",
       "      <td>0.642026</td>\n",
       "      <td>-3.129945</td>\n",
       "      <td>5.104059</td>\n",
       "      <td>7.108933</td>\n",
       "      <td>-4.469921</td>\n",
       "      <td>7.653229</td>\n",
       "    </tr>\n",
       "    <tr>\n",
       "      <th>2</th>\n",
       "      <td>9.353370</td>\n",
       "      <td>3.941909</td>\n",
       "      <td>-6.619772</td>\n",
       "      <td>9.697384</td>\n",
       "      <td>1.642578</td>\n",
       "      <td>-3.685025</td>\n",
       "      <td>4.994648</td>\n",
       "      <td>5.875471</td>\n",
       "      <td>-5.046464</td>\n",
       "      <td>6.239185</td>\n",
       "    </tr>\n",
       "    <tr>\n",
       "      <th>3</th>\n",
       "      <td>9.904518</td>\n",
       "      <td>5.838807</td>\n",
       "      <td>-6.097169</td>\n",
       "      <td>9.411649</td>\n",
       "      <td>1.604958</td>\n",
       "      <td>-3.310898</td>\n",
       "      <td>5.262367</td>\n",
       "      <td>8.806206</td>\n",
       "      <td>-5.563347</td>\n",
       "      <td>6.135471</td>\n",
       "    </tr>\n",
       "    <tr>\n",
       "      <th>4</th>\n",
       "      <td>-8.013914</td>\n",
       "      <td>4.779585</td>\n",
       "      <td>7.413801</td>\n",
       "      <td>9.820288</td>\n",
       "      <td>10.244152</td>\n",
       "      <td>5.213157</td>\n",
       "      <td>-10.519504</td>\n",
       "      <td>-0.609937</td>\n",
       "      <td>7.631231</td>\n",
       "      <td>-9.745499</td>\n",
       "    </tr>\n",
       "  </tbody>\n",
       "</table>\n",
       "</div>"
      ],
      "text/plain": [
       "          0         1         2          3          4         5          6  \\\n",
       "0  8.383156 -8.277472 -1.806924  -4.294713   8.048482 -8.736692  -5.298942   \n",
       "1  7.820244  5.547277 -7.719892  10.660296   0.642026 -3.129945   5.104059   \n",
       "2  9.353370  3.941909 -6.619772   9.697384   1.642578 -3.685025   4.994648   \n",
       "3  9.904518  5.838807 -6.097169   9.411649   1.604958 -3.310898   5.262367   \n",
       "4 -8.013914  4.779585  7.413801   9.820288  10.244152  5.213157 -10.519504   \n",
       "\n",
       "          7         8         9  \n",
       "0 -7.140613 -1.446901  7.622145  \n",
       "1  7.108933 -4.469921  7.653229  \n",
       "2  5.875471 -5.046464  6.239185  \n",
       "3  8.806206 -5.563347  6.135471  \n",
       "4 -0.609937  7.631231 -9.745499  "
      ]
     },
     "execution_count": 100,
     "metadata": {},
     "output_type": "execute_result"
    }
   ],
   "source": [
    "blobs, labels = make_blobs(n_samples=2000, n_features=10)\n",
    "pd.DataFrame(blobs).head()"
   ]
  },
  {
   "cell_type": "code",
   "execution_count": 101,
   "metadata": {},
   "outputs": [
    {
     "data": {
      "text/plain": [
       "HDBSCAN(algorithm='prims_kdtree', allow_single_cluster=False, alpha=1.0,\n",
       "    approx_min_span_tree=True, cluster_selection_method='eom',\n",
       "    core_dist_n_jobs=4, gen_min_span_tree=False, leaf_size=40,\n",
       "    match_reference_implementation=False, memory=Memory(cachedir=None),\n",
       "    metric='euclidean', min_cluster_size=3, min_samples=None, p=None,\n",
       "    prediction_data=False)"
      ]
     },
     "execution_count": 101,
     "metadata": {},
     "output_type": "execute_result"
    }
   ],
   "source": [
    "clusterer = hdbscan.HDBSCAN(min_cluster_size=3, algorithm='prims_kdtree')\n",
    "clusterer.fit(blobs)"
   ]
  },
  {
   "cell_type": "code",
   "execution_count": 102,
   "metadata": {
    "collapsed": true
   },
   "outputs": [],
   "source": [
    "from sklearn.cluster import DBSCAN\n",
    "from sklearn import metrics\n",
    "from sklearn.preprocessing import StandardScaler"
   ]
  },
  {
   "cell_type": "code",
   "execution_count": 103,
   "metadata": {
    "collapsed": true
   },
   "outputs": [],
   "source": [
    "X = StandardScaler().fit_transform(vecs)"
   ]
  },
  {
   "cell_type": "code",
   "execution_count": 104,
   "metadata": {
    "collapsed": true
   },
   "outputs": [],
   "source": [
    "db = DBSCAN(eps=0.3, min_samples=5, n_jobs=-1, algorithm=\"kd_tree\").fit(vecs)\n",
    "core_samples_mask = np.zeros_like(db.labels_, dtype=bool)\n",
    "core_samples_mask[db.core_sample_indices_] = True\n",
    "labels = db.labels_"
   ]
  },
  {
   "cell_type": "code",
   "execution_count": 105,
   "metadata": {},
   "outputs": [
    {
     "name": "stdout",
     "output_type": "stream",
     "text": [
      "[-1 -1 -1 -1 -1 -1 -1 -1 -1 -1 -1 -1 -1 -1 -1 -1 -1 -1 -1 -1 -1 -1 -1 -1 -1\n",
      " -1 -1 -1 -1 -1 -1 -1 -1 -1 -1 -1 -1 -1 -1 -1 -1 -1 -1 -1 -1 -1 -1 -1 -1 -1\n",
      " -1 -1 -1 -1 -1 -1 -1 -1 -1 -1 -1 -1 -1 -1 -1 -1 -1 -1 -1 -1 -1 -1 -1 -1 -1\n",
      " -1 -1 -1 -1 -1 -1 -1 -1 -1 -1 -1 -1 -1 -1 -1 -1 -1 -1 -1 -1 -1 -1 -1 -1 -1\n",
      " -1 -1 -1 -1 -1 -1 -1 -1 -1 -1 -1 -1 -1 -1 -1 -1 -1 -1 -1 -1 -1 -1 -1 -1 -1\n",
      " -1 -1 -1 -1 -1 -1 -1 -1 -1 -1 -1 -1 -1 -1 -1 -1 -1 -1 -1 -1 -1 -1 -1 -1 -1\n",
      " -1 -1 -1 -1 -1 -1 -1 -1 -1 -1 -1 -1 -1 -1 -1 -1 -1 -1 -1 -1 -1 -1 -1 -1 -1\n",
      " -1 -1 -1 -1 -1 -1 -1 -1 -1 -1 -1 -1 -1 -1 -1]\n",
      "0\n"
     ]
    },
    {
     "ename": "ValueError",
     "evalue": "Number of labels is 1. Valid values are 2 to n_samples - 1 (inclusive)",
     "output_type": "error",
     "traceback": [
      "\u001b[0;31m---------------------------------------------------------------------------\u001b[0m",
      "\u001b[0;31mValueError\u001b[0m                                Traceback (most recent call last)",
      "\u001b[0;32m<ipython-input-105-d9917a87e2f1>\u001b[0m in \u001b[0;36m<module>\u001b[0;34m()\u001b[0m\n\u001b[1;32m      3\u001b[0m \u001b[0mprint\u001b[0m\u001b[0;34m(\u001b[0m\u001b[0mlabels\u001b[0m\u001b[0;34m)\u001b[0m\u001b[0;34m\u001b[0m\u001b[0m\n\u001b[1;32m      4\u001b[0m \u001b[0mprint\u001b[0m\u001b[0;34m(\u001b[0m\u001b[0mn_clusters_\u001b[0m\u001b[0;34m)\u001b[0m\u001b[0;34m\u001b[0m\u001b[0m\n\u001b[0;32m----> 5\u001b[0;31m \u001b[0mscore\u001b[0m \u001b[0;34m=\u001b[0m \u001b[0mmetrics\u001b[0m\u001b[0;34m.\u001b[0m\u001b[0msilhouette_score\u001b[0m\u001b[0;34m(\u001b[0m\u001b[0mvecs\u001b[0m\u001b[0;34m,\u001b[0m \u001b[0mlabels\u001b[0m\u001b[0;34m,\u001b[0m \u001b[0mmetric\u001b[0m\u001b[0;34m=\u001b[0m\u001b[0;34m\"cosine\"\u001b[0m\u001b[0;34m)\u001b[0m\u001b[0;34m\u001b[0m\u001b[0m\n\u001b[0m\u001b[1;32m      6\u001b[0m \u001b[0mprint\u001b[0m\u001b[0;34m(\u001b[0m\u001b[0;34m\"Silhouette score = \"\u001b[0m\u001b[0;34m,\u001b[0m \u001b[0mscore\u001b[0m \u001b[0;34m)\u001b[0m\u001b[0;34m\u001b[0m\u001b[0m\n",
      "\u001b[0;32m~/anaconda3/lib/python3.5/site-packages/sklearn/metrics/cluster/unsupervised.py\u001b[0m in \u001b[0;36msilhouette_score\u001b[0;34m(X, labels, metric, sample_size, random_state, **kwds)\u001b[0m\n\u001b[1;32m     99\u001b[0m         \u001b[0;32melse\u001b[0m\u001b[0;34m:\u001b[0m\u001b[0;34m\u001b[0m\u001b[0m\n\u001b[1;32m    100\u001b[0m             \u001b[0mX\u001b[0m\u001b[0;34m,\u001b[0m \u001b[0mlabels\u001b[0m \u001b[0;34m=\u001b[0m \u001b[0mX\u001b[0m\u001b[0;34m[\u001b[0m\u001b[0mindices\u001b[0m\u001b[0;34m]\u001b[0m\u001b[0;34m,\u001b[0m \u001b[0mlabels\u001b[0m\u001b[0;34m[\u001b[0m\u001b[0mindices\u001b[0m\u001b[0;34m]\u001b[0m\u001b[0;34m\u001b[0m\u001b[0m\n\u001b[0;32m--> 101\u001b[0;31m     \u001b[0;32mreturn\u001b[0m \u001b[0mnp\u001b[0m\u001b[0;34m.\u001b[0m\u001b[0mmean\u001b[0m\u001b[0;34m(\u001b[0m\u001b[0msilhouette_samples\u001b[0m\u001b[0;34m(\u001b[0m\u001b[0mX\u001b[0m\u001b[0;34m,\u001b[0m \u001b[0mlabels\u001b[0m\u001b[0;34m,\u001b[0m \u001b[0mmetric\u001b[0m\u001b[0;34m=\u001b[0m\u001b[0mmetric\u001b[0m\u001b[0;34m,\u001b[0m \u001b[0;34m**\u001b[0m\u001b[0mkwds\u001b[0m\u001b[0;34m)\u001b[0m\u001b[0;34m)\u001b[0m\u001b[0;34m\u001b[0m\u001b[0m\n\u001b[0m\u001b[1;32m    102\u001b[0m \u001b[0;34m\u001b[0m\u001b[0m\n\u001b[1;32m    103\u001b[0m \u001b[0;34m\u001b[0m\u001b[0m\n",
      "\u001b[0;32m~/anaconda3/lib/python3.5/site-packages/sklearn/metrics/cluster/unsupervised.py\u001b[0m in \u001b[0;36msilhouette_samples\u001b[0;34m(X, labels, metric, **kwds)\u001b[0m\n\u001b[1;32m    165\u001b[0m     \u001b[0mle\u001b[0m \u001b[0;34m=\u001b[0m \u001b[0mLabelEncoder\u001b[0m\u001b[0;34m(\u001b[0m\u001b[0;34m)\u001b[0m\u001b[0;34m\u001b[0m\u001b[0m\n\u001b[1;32m    166\u001b[0m     \u001b[0mlabels\u001b[0m \u001b[0;34m=\u001b[0m \u001b[0mle\u001b[0m\u001b[0;34m.\u001b[0m\u001b[0mfit_transform\u001b[0m\u001b[0;34m(\u001b[0m\u001b[0mlabels\u001b[0m\u001b[0;34m)\u001b[0m\u001b[0;34m\u001b[0m\u001b[0m\n\u001b[0;32m--> 167\u001b[0;31m     \u001b[0mcheck_number_of_labels\u001b[0m\u001b[0;34m(\u001b[0m\u001b[0mlen\u001b[0m\u001b[0;34m(\u001b[0m\u001b[0mle\u001b[0m\u001b[0;34m.\u001b[0m\u001b[0mclasses_\u001b[0m\u001b[0;34m)\u001b[0m\u001b[0;34m,\u001b[0m \u001b[0mX\u001b[0m\u001b[0;34m.\u001b[0m\u001b[0mshape\u001b[0m\u001b[0;34m[\u001b[0m\u001b[0;36m0\u001b[0m\u001b[0;34m]\u001b[0m\u001b[0;34m)\u001b[0m\u001b[0;34m\u001b[0m\u001b[0m\n\u001b[0m\u001b[1;32m    168\u001b[0m \u001b[0;34m\u001b[0m\u001b[0m\n\u001b[1;32m    169\u001b[0m     \u001b[0mdistances\u001b[0m \u001b[0;34m=\u001b[0m \u001b[0mpairwise_distances\u001b[0m\u001b[0;34m(\u001b[0m\u001b[0mX\u001b[0m\u001b[0;34m,\u001b[0m \u001b[0mmetric\u001b[0m\u001b[0;34m=\u001b[0m\u001b[0mmetric\u001b[0m\u001b[0;34m,\u001b[0m \u001b[0;34m**\u001b[0m\u001b[0mkwds\u001b[0m\u001b[0;34m)\u001b[0m\u001b[0;34m\u001b[0m\u001b[0m\n",
      "\u001b[0;32m~/anaconda3/lib/python3.5/site-packages/sklearn/metrics/cluster/unsupervised.py\u001b[0m in \u001b[0;36mcheck_number_of_labels\u001b[0;34m(n_labels, n_samples)\u001b[0m\n\u001b[1;32m     17\u001b[0m     \u001b[0;32mif\u001b[0m \u001b[0;32mnot\u001b[0m \u001b[0;36m1\u001b[0m \u001b[0;34m<\u001b[0m \u001b[0mn_labels\u001b[0m \u001b[0;34m<\u001b[0m \u001b[0mn_samples\u001b[0m\u001b[0;34m:\u001b[0m\u001b[0;34m\u001b[0m\u001b[0m\n\u001b[1;32m     18\u001b[0m         raise ValueError(\"Number of labels is %d. Valid values are 2 \"\n\u001b[0;32m---> 19\u001b[0;31m                          \"to n_samples - 1 (inclusive)\" % n_labels)\n\u001b[0m\u001b[1;32m     20\u001b[0m \u001b[0;34m\u001b[0m\u001b[0m\n\u001b[1;32m     21\u001b[0m \u001b[0;34m\u001b[0m\u001b[0m\n",
      "\u001b[0;31mValueError\u001b[0m: Number of labels is 1. Valid values are 2 to n_samples - 1 (inclusive)"
     ]
    }
   ],
   "source": [
    "# Number of clusters in labels, ignoring noise if present.\n",
    "n_clusters_ = len(set(labels)) - (1 if -1 in labels else 0)\n",
    "print(labels)\n",
    "print(n_clusters_)\n",
    "score = metrics.silhouette_score(vecs, labels, metric=\"cosine\")\n",
    "print(\"Silhouette score = \", score )\n"
   ]
  },
  {
   "cell_type": "markdown",
   "metadata": {},
   "source": [
    "## Hierarchical Clustering"
   ]
  },
  {
   "cell_type": "code",
   "execution_count": 19,
   "metadata": {
    "collapsed": true
   },
   "outputs": [],
   "source": [
    "import collections\n",
    "import scipy.spatial.distance as ssd\n",
    "from scipy.spatial.distance import cdist\n",
    "from scipy.cluster.hierarchy import dendrogram, linkage, fcluster, cophenet"
   ]
  },
  {
   "cell_type": "code",
   "execution_count": 20,
   "metadata": {},
   "outputs": [
    {
     "data": {
      "image/png": "[encoded data removed]",
      "text/plain": [
       "<Figure size 432x288 with 1 Axes>"
      ]
     },
     "metadata": {},
     "output_type": "display_data"
    }
   ],
   "source": [
    "distMatrix = [ [0.0 for i in range(len(vecs))] for j in range(len(vecs))]\n",
    "dd = cdist(vecs, vecs)\n",
    "distArray = ssd.squareform(np.asmatrix(dd), checks = False)\n",
    "# distribution of pairwise distances\n",
    "plt.hist(distArray, edgecolor=\"white\")\n",
    "plt.show()"
   ]
  },
  {
   "cell_type": "code",
   "execution_count": 21,
   "metadata": {},
   "outputs": [
    {
     "name": "stdout",
     "output_type": "stream",
     "text": [
      "[ ward      ] Cophenetic =  0.21\n",
      "[ median    ] Cophenetic =  0.34\n",
      "[ average   ] Cophenetic =  0.54\n",
      "[ single    ] Cophenetic =  0.46\n",
      "[ complete  ] Cophenetic =  0.32\n",
      "Best method is ' average ' with best cophenet value =  0.5404654336311817\n"
     ]
    }
   ],
   "source": [
    "# Find the best hierarchical clustering method\n",
    "methods = [\"ward\", \"median\", \"average\", \"single\", \"complete\"]\n",
    "bestVal = 0.0\n",
    "bestMethod = \" \"\n",
    "for mm in methods:\n",
    "    Z = linkage(distArray, method=mm)\n",
    "    c, cophDist = cophenet(Z, distArray)\n",
    "    print(\"[ {0:10s}] Cophenetic = {1:5.2f}\".format(mm,c))\n",
    "    if c > bestVal:\n",
    "        bestVal = c\n",
    "        bestMethod = mm\n",
    "        \n",
    "#Z = linkage(distArray, method=bestMethod, optimal_ordering=True)\n",
    "print(\"Best method is '\", bestMethod, \"' with best cophenet value = \", bestVal)\n",
    "Z = linkage(distArray, method=bestMethod)"
   ]
  },
  {
   "cell_type": "code",
   "execution_count": 22,
   "metadata": {},
   "outputs": [
    {
     "data": {
      "image/png": "[encoded data removed]",
      "text/plain": [
       "<Figure size 1800x720 with 1 Axes>"
      ]
     },
     "metadata": {},
     "output_type": "display_data"
    }
   ],
   "source": [
    "plt.figure(figsize=(25,10))\n",
    "plt.title(\"Hierarchical Clustering Users\")\n",
    "pp= dendrogram(\n",
    "    Z,\n",
    "    leaf_rotation=90,\n",
    "    leaf_font_size=8.,\n",
    "    show_leaf_counts=True,\n",
    "    get_leaves=True,\n",
    "    truncate_mode=\"level\",\n",
    "    p = 10\n",
    ")\n",
    "plt.show()"
   ]
  },
  {
   "cell_type": "code",
   "execution_count": 118,
   "metadata": {},
   "outputs": [
    {
     "name": "stdout",
     "output_type": "stream",
     "text": [
      "Length labels vs idOriginal vs vecs 190 190 190\n"
     ]
    }
   ],
   "source": [
    "maxD = 60 # increase maxD to reduce depth.Therefore, the number of clusters created gets reduced\n",
    "labels = fcluster(Z, maxD, criterion=\"distance\")\n",
    "labels = labels - [1]*len(labels)\n",
    "print(\"Length labels vs idOriginal vs vecs\", len(labels), len(dfMap[\"id\"]), len(vecs))"
   ]
  },
  {
   "cell_type": "code",
   "execution_count": 119,
   "metadata": {},
   "outputs": [
    {
     "name": "stdout",
     "output_type": "stream",
     "text": [
      "Counter({27: 127, 6: 10, 16: 5, 21: 2, 24: 2, 25: 2, 26: 2, 0: 1, 1: 1, 2: 1, 3: 1, 4: 1, 5: 1, 7: 1, 8: 1, 9: 1, 10: 1, 11: 1, 12: 1, 13: 1, 14: 1, 15: 1, 17: 1, 18: 1, 19: 1, 20: 1, 22: 1, 23: 1, 28: 1, 29: 1, 30: 1, 31: 1, 32: 1, 33: 1, 34: 1, 35: 1, 36: 1, 37: 1, 38: 1, 39: 1, 40: 1, 41: 1, 42: 1, 43: 1, 44: 1, 45: 1, 46: 1})\n"
     ]
    },
    {
     "data": {
      "image/png": "[encoded data removed]",
      "text/plain": [
       "<Figure size 1800x720 with 1 Axes>"
      ]
     },
     "metadata": {},
     "output_type": "display_data"
    }
   ],
   "source": [
    "plt.figure(figsize=(25,10))\n",
    "counter=collections.Counter(labels)\n",
    "print(counter)\n",
    "bins = np.arange(min(labels),max(labels))\n",
    "plt.hist(labels, edgecolor=\"white\", bins=bins, linewidth=1.5, alpha=0.8)\n",
    "if len(bins) > 25:\n",
    "    rotation=\"vertical\"\n",
    "else:\n",
    "    rotation=\"horizontal\"\n",
    "plt.xticks(np.round(bins,0), rotation=rotation)\n",
    "plt.show()"
   ]
  }
 ],
 "metadata": {
  "kernelspec": {
   "display_name": "Python 3",
   "language": "python",
   "name": "python3"
  },
  "language_info": {
   "codemirror_mode": {
    "name": "ipython",
    "version": 3
   },
   "file_extension": ".py",
   "mimetype": "text/x-python",
   "name": "python",
   "nbconvert_exporter": "python",
   "pygments_lexer": "ipython3",
   "version": "3.5.0"
  },
  "toc": {
   "base_numbering": 1,
   "nav_menu": {},
   "number_sections": true,
   "sideBar": true,
   "skip_h1_title": false,
   "title_cell": "Table of Contents",
   "title_sidebar": "Contents",
   "toc_cell": true,
   "toc_position": {},
   "toc_section_display": true,
   "toc_window_display": true
  }
 },
 "nbformat": 4,
 "nbformat_minor": 2
}
