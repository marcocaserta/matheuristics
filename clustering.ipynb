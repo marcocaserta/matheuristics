{
 "cells": [
  {
   "cell_type": "markdown",
   "metadata": {},
   "source": [
    "# Clustering"
   ]
  },
  {
   "cell_type": "markdown",
   "metadata": {},
   "source": [
    "### Skip this part (use of fasttext)"
   ]
  },
  {
   "cell_type": "code",
   "execution_count": 1,
   "metadata": {
    "collapsed": true
   },
   "outputs": [],
   "source": [
    "import matplotlib.pyplot as plt\n",
    "plt.style.use('ggplot')\n",
    "from sklearn.decomposition import PCA as sklearnPCA"
   ]
  },
  {
   "cell_type": "code",
   "execution_count": 38,
   "metadata": {},
   "outputs": [
    {
     "name": "stderr",
     "output_type": "stream",
     "text": [
      "2019-03-08 07:34:38,374 : INFO : loading projection weights from ../data/fasttext/crawl-300d-2M-subword.vec\n",
      "2019-03-08 07:43:45,684 : INFO : loaded (2000000, 300) matrix from ../data/fasttext/crawl-300d-2M-subword.vec\n"
     ]
    },
    {
     "name": "stdout",
     "output_type": "stream",
     "text": [
      "Number of Tokens: 2000000\n",
      "Dimension of a word vector: 300\n"
     ]
    }
   ],
   "source": [
    "from __future__ import print_function\n",
    "from gensim.models import KeyedVectors\n",
    "\n",
    "# Creating the model\n",
    "en_model = KeyedVectors.load_word2vec_format('../data/fasttext/crawl-300d-2M-subword.vec')\n",
    "\n",
    "# Getting the tokens \n",
    "words = []\n",
    "for word in en_model.vocab:\n",
    "    words.append(word)\n",
    "\n",
    "# Printing out number of tokens available\n",
    "print(\"Number of Tokens: {}\".format(len(words)))\n",
    "\n",
    "# Printing out the dimension of a word vector \n",
    "print(\"Dimension of a word vector: {}\".format(\n",
    "    len(en_model[words[0]])\n",
    "))\n"
   ]
  },
  {
   "cell_type": "code",
   "execution_count": 47,
   "metadata": {},
   "outputs": [
    {
     "name": "stdout",
     "output_type": "stream",
     "text": [
      "Word: mathematic, Similarity: 0.88\n",
      "Word: mathematically-based, Similarity: 0.80\n",
      "Word: non-mathematical, Similarity: 0.79\n",
      "Word: mathematics, Similarity: 0.78\n",
      "Word: mathmatical, Similarity: 0.78\n",
      "Word: algebraic, Similarity: 0.77\n",
      "Word: arithmetical, Similarity: 0.77\n",
      "Word: mathemagical, Similarity: 0.76\n",
      "Word: Mathematical, Similarity: 0.76\n",
      "Word: mathematics-based, Similarity: 0.76\n"
     ]
    }
   ],
   "source": [
    "find_similar_to = 'mathematical'\n",
    "\n",
    "# Finding out similar words [default= top 10]\n",
    "for similar_word in en_model.similar_by_word(find_similar_to):\n",
    "    print(\"Word: {0}, Similarity: {1:.2f}\".format(\n",
    "        similar_word[0], similar_word[1]\n",
    "    ))\n",
    "model  = en_model   \n",
    "model.wv.in"
   ]
  },
  {
   "cell_type": "markdown",
   "metadata": {},
   "source": [
    "# From Here"
   ]
  },
  {
   "cell_type": "code",
   "execution_count": 2,
   "metadata": {
    "collapsed": true
   },
   "outputs": [],
   "source": [
    "import io\n",
    "import os\n",
    "from os import path, listdir\n",
    "import pandas as pd\n",
    "from gensim.corpora import Dictionary\n",
    "import numpy as np\n",
    "from nltk import word_tokenize\n",
    "from nltk import sent_tokenize\n",
    "from nltk.corpus import stopwords\n",
    "from gensim.models import doc2vec\n",
    "from collections import namedtuple\n",
    "import nltk\n",
    "from nltk.cluster import KMeansClusterer\n",
    "import scipy.spatial.distance as ssd\n",
    "from sklearn import metrics\n",
    "import pickle\n",
    "import glob\n",
    "\n",
    "import utils\n",
    "import importlib\n",
    "importlib.reload(utils)\n",
    "\n",
    "import logging\n",
    "logging.basicConfig(format='%(asctime)s : %(levelname)s : %(message)s', level=logging.INFO)"
   ]
  },
  {
   "cell_type": "code",
   "execution_count": 3,
   "metadata": {},
   "outputs": [
    {
     "name": "stdout",
     "output_type": "stream",
     "text": [
      "Name of file with id = 35 is caserta-14\n",
      "ID of file with name = puchinger-05 is 6\n"
     ]
    }
   ],
   "source": [
    "dfMap = pd.read_csv(\"mapping.csv\")\n",
    "#print(dfMap)\n",
    "file2tag = {f:t for f,t in zip(dfMap[\"name\"],dfMap[\"id\"])}\n",
    "tag2file = {t:f for t,f in zip(dfMap[\"id\"],dfMap[\"name\"])}\n",
    "print(\"Name of file with id = {0} is {1}\".format(35,tag2file[35]))\n",
    "print(\"ID of file with name = {0} is {1}\".format(\"puchinger-05\", file2tag[\"puchinger-05\"]))"
   ]
  },
  {
   "cell_type": "code",
   "execution_count": 4,
   "metadata": {},
   "outputs": [
    {
     "name": "stdout",
     "output_type": "stream",
     "text": [
      "Processing file 'data/p/2001/taillard-01.p'\n",
      "... TAG =  ['0']  :: document length =  1999 words.\n",
      "Processing file 'data/p/2001/hansen-01.p'\n",
      "... TAG =  ['1']  :: document length =  2141 words.\n",
      "Processing file 'data/p/2003/dumitrescu-03.p'\n",
      "... TAG =  ['2']  :: document length =  5722 words.\n",
      "Processing file 'data/p/2003/fischetti-03.p'\n",
      "... TAG =  ['3']  :: document length =  3153 words.\n",
      "Processing file 'data/p/2004/fischetti-04.p'\n",
      "... TAG =  ['4']  :: document length =  2680 words.\n",
      "Processing file 'data/p/2005/danna-05.p'\n",
      "... TAG =  ['5']  :: document length =  3915 words.\n",
      "Processing file 'data/p/2005/puchinger-05.p'\n",
      "... TAG =  ['6']  :: document length =  2184 words.\n",
      "Processing file 'data/p/2006/sniedovich-06.p'\n",
      "... TAG =  ['7']  :: document length =  3784 words.\n",
      "Processing file 'data/p/2006/hansen-06.p'\n",
      "... TAG =  ['8']  :: document length =  1892 words.\n",
      "Processing file 'data/p/2007/boschetti-07.p'\n",
      "... TAG =  ['10']  :: document length =  3999 words.\n",
      "Processing file 'data/p/2007/rothberg-07.p'\n",
      "... TAG =  ['9']  :: document length =  2513 words.\n",
      "Processing file 'data/p/2008/raidl-08.p'\n",
      "... TAG =  ['11']  :: document length =  5722 words.\n",
      "Processing file 'data/p/2009/dumitrescu-09.p'\n",
      "... TAG =  ['16']  :: document length =  4996 words.\n",
      "Processing file 'data/p/2009/fischetti-09.p'\n",
      "... TAG =  ['12']  :: document length =  4456 words.\n",
      "Processing file 'data/p/2009/puchinger-09.p'\n",
      "... TAG =  ['15']  :: document length =  5274 words.\n",
      "Processing file 'data/p/2009/jourdan-09.p'\n",
      "... TAG =  ['13']  :: document length =  3119 words.\n",
      "Processing file 'data/p/2009/caserta-09.p'\n",
      "... TAG =  ['14']  :: document length =  6877 words.\n",
      "Processing file 'data/p/2010/angeletti-10.p'\n",
      "... TAG =  ['20']  :: document length =  2196 words.\n",
      "Processing file 'data/p/2010/hanafi-10.p'\n",
      "... TAG =  ['19']  :: document length =  2319 words.\n",
      "Processing file 'data/p/2010/lazic-10.p'\n",
      "... TAG =  ['18']  :: document length =  3630 words.\n",
      "Processing file 'data/p/2010/schmid-10.p'\n",
      "... TAG =  ['17']  :: document length =  2340 words.\n",
      "Processing file 'data/p/2011/perboli-11.p'\n",
      "... TAG =  ['23']  :: document length =  4494 words.\n",
      "Processing file 'data/p/2011/bollapragada-11.p'\n",
      "... TAG =  ['22']  :: document length =  3025 words.\n",
      "Processing file 'data/p/2011/blum-11.p'\n",
      "... TAG =  ['21']  :: document length =  7159 words.\n",
      "Processing file 'data/p/2013/villegas-13.p'\n",
      "... TAG =  ['27']  :: document length =  4051 words.\n",
      "Processing file 'data/p/2013/yaghini-13.p'\n",
      "... TAG =  ['24']  :: document length =  2153 words.\n",
      "Processing file 'data/p/2013/vu-13.p'\n",
      "... TAG =  ['32']  :: document length =  5047 words.\n",
      "Processing file 'data/p/2013/boussaid-13.p'\n",
      "... TAG =  ['25']  :: document length =  9185 words.\n",
      "Processing file 'data/p/2013/allaoua-13.p'\n",
      "... TAG =  ['28']  :: document length =  857 words.\n",
      "Processing file 'data/p/2013/chouman-13.p'\n",
      "... TAG =  ['29']  :: document length =  3191 words.\n",
      "Processing file 'data/p/2013/raa-13.p'\n",
      "... TAG =  ['31']  :: document length =  3199 words.\n",
      "Processing file 'data/p/2013/maras-13.p'\n",
      "... TAG =  ['30']  :: document length =  5026 words.\n",
      "Processing file 'data/p/2013/parragh-13.p'\n",
      "... TAG =  ['26']  :: document length =  3000 words.\n",
      "Processing file 'data/p/2014/dellacroce-14.p'\n",
      "... TAG =  ['43']  :: document length =  2401 words.\n",
      "Processing file 'data/p/2014/cacchiani-14.p'\n",
      "... TAG =  ['51']  :: document length =  2509 words.\n",
      "Processing file 'data/p/2014/archetti-14.p'\n",
      "... TAG =  ['37']  :: document length =  4611 words.\n",
      "Processing file 'data/p/2014/smet-14.p'\n",
      "... TAG =  ['38']  :: document length =  3024 words.\n",
      "Processing file 'data/p/2014/thiruvady-14.p'\n",
      "... TAG =  ['42']  :: document length =  139 words.\n",
      "Processing file 'data/p/2014/archetti2-14.p'\n",
      "... TAG =  ['45']  :: document length =  2860 words.\n",
      "Processing file 'data/p/2014/manerba-14.p'\n",
      "... TAG =  ['50']  :: document length =  2956 words.\n",
      "Processing file 'data/p/2014/brouer-14.p'\n",
      "... TAG =  ['34']  :: document length =  5833 words.\n",
      "Processing file 'data/p/2014/ljubic-14.p'\n",
      "... TAG =  ['48']  :: document length =  4648 words.\n",
      "Processing file 'data/p/2014/baldacci-14.p'\n",
      "... TAG =  ['47']  :: document length =  3784 words.\n",
      "Processing file 'data/p/2014/caserta-14.p'\n",
      "... TAG =  ['35']  :: document length =  3843 words.\n",
      "Processing file 'data/p/2014/dangaard-14.p'\n",
      "... TAG =  ['40']  :: document length =  5833 words.\n",
      "Processing file 'data/p/2014/lin-14.p'\n",
      "... TAG =  ['33']  :: document length =  2402 words.\n",
      "Processing file 'data/p/2014/bosco-14.p'\n",
      "... TAG =  ['49']  :: document length =  3917 words.\n",
      "Processing file 'data/p/2014/ren-14.p'\n",
      "... TAG =  ['39']  :: document length =  181 words.\n",
      "Processing file 'data/p/2014/calleja-14.p'\n",
      "... TAG =  ['41']  :: document length =  3090 words.\n",
      "Processing file 'data/p/2014/cafieri-14.p'\n",
      "... TAG =  ['36']  :: document length =  1933 words.\n",
      "Processing file 'data/p/2014/camargo-14.p'\n",
      "... TAG =  ['46']  :: document length =  4554 words.\n",
      "Processing file 'data/p/2014/vanovermeire-14.p'\n",
      "... TAG =  ['44']  :: document length =  5514 words.\n",
      "Processing file 'data/p/2015/kramer-15.p'\n",
      "... TAG =  ['67']  :: document length =  3798 words.\n",
      "Processing file 'data/p/2015/lopes-15.p'\n",
      "... TAG =  ['65']  :: document length =  2985 words.\n",
      "Processing file 'data/p/2015/fischetti-15.p'\n",
      "... TAG =  ['55']  :: document length =  2054 words.\n",
      "Processing file 'data/p/2015/lahyani-15.p'\n",
      "... TAG =  ['52']  :: document length =  369 words.\n",
      "Processing file 'data/p/2015/guerrero-15.p'\n",
      "... TAG =  ['63']  :: document length =  3550 words.\n",
      "Processing file 'data/p/2015/urrutia-15.p'\n",
      "... TAG =  ['60']  :: document length =  3247 words.\n",
      "Processing file 'data/p/2015/lannez-15.p'\n",
      "... TAG =  ['59']  :: document length =  5793 words.\n",
      "Processing file 'data/p/2015/blum-15.p'\n",
      "... TAG =  ['53']  :: document length =  133 words.\n",
      "Processing file 'data/p/2015/obal-15.p'\n",
      "... TAG =  ['66']  :: document length =  1525 words.\n",
      "Processing file 'data/p/2015/billaut-15.p'\n",
      "... TAG =  ['61']  :: document length =  2241 words.\n",
      "Processing file 'data/p/2015/stefanello-15.p'\n",
      "... TAG =  ['62']  :: document length =  2974 words.\n",
      "Processing file 'data/p/2015/raidl-15.p'\n",
      "... TAG =  ['56']  :: document length =  4894 words.\n",
      "Processing file 'data/p/2015/boschetti-15.p'\n",
      "... TAG =  ['54']  :: document length =  4000 words.\n",
      "Processing file 'data/p/2015/archetti-15.p'\n",
      "... TAG =  ['57']  :: document length =  3469 words.\n",
      "Processing file 'data/p/2015/amorin-15.p'\n",
      "... TAG =  ['58']  :: document length =  2276 words.\n",
      "Processing file 'data/p/2015/yaghini-15.p'\n",
      "... TAG =  ['64']  :: document length =  2603 words.\n",
      "Processing file 'data/p/2016/zhang-16.p'\n",
      "... TAG =  ['71']  :: document length =  5096 words.\n",
      "Processing file 'data/p/2016/hemmati-16.p'\n",
      "... TAG =  ['68']  :: document length =  4716 words.\n",
      "Processing file 'data/p/2016/haahr-16.p'\n",
      "... TAG =  ['82']  :: document length =  4637 words.\n",
      "Processing file 'data/p/2016/Lin-16.p'\n",
      "... TAG =  ['79']  :: document length =  2144 words.\n",
      "Processing file 'data/p/2016/lusby-16.p'\n",
      "... TAG =  ['74']  :: document length =  4878 words.\n",
      "Processing file 'data/p/2016/mancini-16.p'\n",
      "... TAG =  ['69']  :: document length =  3117 words.\n",
      "Processing file 'data/p/2016/lallaRuiz-16.p'\n",
      "... TAG =  ['73']  :: document length =  2636 words.\n",
      "Processing file 'data/p/2016/fonseca-16.p'\n",
      "... TAG =  ['76']  :: document length =  2719 words.\n",
      "Processing file 'data/p/2016/bertazzi-16.p'\n",
      "... TAG =  ['77']  :: document length =  3280 words.\n",
      "Processing file 'data/p/2016/arbaoui-16.p'\n",
      "... TAG =  ['83']  :: document length =  3640 words.\n",
      "Processing file 'data/p/2016/ritzinger-16.p'\n",
      "... TAG =  ['75']  :: document length =  3796 words.\n",
      "Processing file 'data/p/2016/akhmedov-16.p'\n",
      "... TAG =  ['81']  :: document length =  2440 words.\n",
      "Processing file 'data/p/2016/fischetti2-16.p'\n",
      "... TAG =  ['80']  :: document length =  2008 words.\n",
      "Processing file 'data/p/2016/lin-16.p'\n",
      "... TAG =  ['72']  :: document length =  3114 words.\n",
      "Processing file 'data/p/2016/talbi-16.p'\n",
      "... TAG =  ['70']  :: document length =  7836 words.\n",
      "Processing file 'data/p/2016/fischetti-16.p'\n",
      "... TAG =  ['78']  :: document length =  2855 words.\n",
      "Processing file 'data/p/2017/valeva-17.p'\n",
      "... TAG =  ['84']  :: document length =  3728 words.\n",
      "Processing file 'data/p/2017/lahyani-17.p'\n",
      "... TAG =  ['85']  :: document length =  4757 words.\n",
      "Processing file 'data/p/2017/christensen-17.p'\n",
      "... TAG =  ['99']  :: document length =  4365 words.\n",
      "Processing file 'data/p/2017/fanjul-17.p'\n",
      "... TAG =  ['98']  :: document length =  3839 words.\n",
      "Processing file 'data/p/2017/koc-17.p'\n",
      "... TAG =  ['88']  :: document length =  3114 words.\n",
      "Processing file 'data/p/2017/ade-17.p'\n",
      "... TAG =  ['93']  :: document length =  4975 words.\n",
      "Processing file 'data/p/2017/hill-17.p'\n",
      "... TAG =  ['87']  :: document length =  4706 words.\n",
      "Processing file 'data/p/2017/lallaRuiz.17.p'\n",
      "... TAG =  ['103']  :: document length =  3381 words.\n",
      "Processing file 'data/p/2017/wang-17.p'\n",
      "... TAG =  ['90']  :: document length =  3550 words.\n",
      "Processing file 'data/p/2017/li-17.p'\n",
      "... TAG =  ['97']  :: document length =  4281 words.\n",
      "Processing file 'data/p/2017/mancini-17.p'\n",
      "... TAG =  ['94']  :: document length =  2723 words.\n",
      "Processing file 'data/p/2017/behnamian-17.p'\n",
      "... TAG =  ['86']  :: document length =  3126 words.\n",
      "Processing file 'data/p/2017/alekseeva-17.p'\n",
      "... TAG =  ['100']  :: document length =  3775 words.\n",
      "Processing file 'data/p/2017/bruglieri-17.p'\n",
      "... TAG =  ['96']  :: document length =  964 words.\n",
      "Processing file 'data/p/2017/akbari-17.p'\n",
      "... TAG =  ['104']  :: document length =  5562 words.\n",
      "Processing file 'data/p/2017/martinez-17.p'\n",
      "... TAG =  ['92']  :: document length =  5152 words.\n",
      "Processing file 'data/p/2017/grangier-17.p'\n",
      "... TAG =  ['105']  :: document length =  3368 words.\n",
      "Processing file 'data/p/2017/guastaroba-17.p'\n",
      "... TAG =  ['91']  :: document length =  4890 words.\n",
      "Processing file 'data/p/2017/archetti-17.p'\n",
      "... TAG =  ['89']  :: document length =  82 words.\n",
      "Processing file 'data/p/2017/nishi-17.p'\n",
      "... TAG =  ['101']  :: document length =  2839 words.\n",
      "Processing file 'data/p/2017/martinez-gavara-17.p'\n",
      "... TAG =  ['106']  :: document length =  3683 words.\n",
      "Processing file 'data/p/2017/parragh-17.p'\n",
      "... TAG =  ['107']  :: document length =  4784 words.\n",
      "Processing file 'data/p/2017/kartsten-17.p'\n",
      "... TAG =  ['102']  :: document length =  3775 words.\n",
      "Processing file 'data/p/2017/sender-17.p'\n",
      "... TAG =  ['95']  :: document length =  4234 words.\n",
      "Processing file 'data/p/2018/taillard-18.p'\n",
      "... TAG =  ['119']  :: document length =  2485 words.\n",
      "Processing file 'data/p/2018/gnagi-18.p'\n",
      "... TAG =  ['121']  :: document length =  6220 words.\n",
      "Processing file 'data/p/2018/brito-18.p'\n",
      "... TAG =  ['120']  :: document length =  7160 words.\n",
      "Processing file 'data/p/2018/fuentes-18.p'\n",
      "... TAG =  ['129']  :: document length =  2247 words.\n",
      "Processing file 'data/p/2018/melchiori-18.p'\n",
      "... TAG =  ['151']  :: document length =  5025 words.\n",
      "Processing file 'data/p/2018/alburquerque-18.p'\n",
      "... TAG =  ['126']  :: document length =  2672 words.\n",
      "Processing file 'data/p/2018/decerle-18.p'\n",
      "... TAG =  ['123']  :: document length =  4107 words.\n",
      "Processing file 'data/p/2018/ghaffarinasab-18.p'\n",
      "... TAG =  ['144']  :: document length =  4290 words.\n",
      "Processing file 'data/p/2018/never-moreira-18.p'\n",
      "... TAG =  ['115']  :: document length =  6960 words.\n",
      "Processing file 'data/p/2018/zhang-18.p'\n",
      "... TAG =  ['136']  :: document length =  4058 words.\n",
      "Processing file 'data/p/2018/lersteau-18.p'\n"
     ]
    },
    {
     "name": "stdout",
     "output_type": "stream",
     "text": [
      "... TAG =  ['155']  :: document length =  4445 words.\n",
      "Processing file 'data/p/2018/dupin-18.p'\n",
      "... TAG =  ['116']  :: document length =  4969 words.\n",
      "Processing file 'data/p/2018/regis-18.p'\n",
      "... TAG =  ['137']  :: document length =  3803 words.\n",
      "Processing file 'data/p/2018/woo-18.p'\n",
      "... TAG =  ['146']  :: document length =  4639 words.\n",
      "Processing file 'data/p/2018/agra-18.p'\n",
      "... TAG =  ['132']  :: document length =  3990 words.\n",
      "Processing file 'data/p/2018/sadykov-18.p'\n",
      "... TAG =  ['156']  :: document length =  5147 words.\n",
      "Processing file 'data/p/2018/caserta-18.p'\n",
      "... TAG =  ['111']  :: document length =  4293 words.\n",
      "Processing file 'data/p/2018/hojabri.p'\n",
      "... TAG =  ['128']  :: document length =  3107 words.\n",
      "Processing file 'data/p/2018/hitoshi-18.p'\n",
      "... TAG =  ['112']  :: document length =  7288 words.\n",
      "Processing file 'data/p/2018/moench-18.p'\n",
      "... TAG =  ['114']  :: document length =  4424 words.\n",
      "Processing file 'data/p/2018/calvete-18.p'\n",
      "... TAG =  ['140']  :: document length =  2517 words.\n",
      "Processing file 'data/p/2018/cabrera-18.p'\n",
      "... TAG =  ['122']  :: document length =  4982 words.\n",
      "Processing file 'data/p/2018/paiva-18.p'\n",
      "... TAG =  ['142']  :: document length =  6496 words.\n",
      "Processing file 'data/p/2018/ta-18.p'\n",
      "... TAG =  ['118']  :: document length =  2292 words.\n",
      "Processing file 'data/p/2018/pinheiro-18.p'\n",
      "... TAG =  ['148']  :: document length =  1180 words.\n",
      "Processing file 'data/p/2018/summary.p'\n",
      "... TAG =  ['109']  :: document length =  9310 words.\n",
      "Processing file 'data/p/2018/desfontaines-18.p'\n",
      "... TAG =  ['117']  :: document length =  4946 words.\n",
      "Processing file 'data/p/2018/felberbauer-18.p'\n",
      "... TAG =  ['113']  :: document length =  5546 words.\n",
      "Processing file 'data/p/2018/mancini-18.p'\n",
      "... TAG =  ['147']  :: document length =  3041 words.\n",
      "Processing file 'data/p/2018/archetti-18.p'\n",
      "... TAG =  ['125']  :: document length =  2997 words.\n",
      "Processing file 'data/p/2018/hill-18.p'\n",
      "... TAG =  ['138']  :: document length =  3611 words.\n",
      "Processing file 'data/p/2018/wolfinger-18.p'\n",
      "... TAG =  ['131']  :: document length =  6101 words.\n",
      "Processing file 'data/p/2018/carvalho-18.p'\n",
      "... TAG =  ['127']  :: document length =  3504 words.\n",
      "Processing file 'data/p/2018/cattaruzza-18.p'\n",
      "... TAG =  ['134']  :: document length =  4967 words.\n",
      "Processing file 'data/p/2018/aldasoro-18.p'\n",
      "... TAG =  ['153']  :: document length =  3731 words.\n",
      "Processing file 'data/p/2018/cadarso-18.p'\n",
      "... TAG =  ['139']  :: document length =  6075 words.\n",
      "Processing file 'data/p/2018/wu-18.p'\n",
      "... TAG =  ['141']  :: document length =  4175 words.\n",
      "Processing file 'data/p/2018/gendron-18.p'\n",
      "... TAG =  ['108']  :: document length =  3398 words.\n",
      "Processing file 'data/p/2018/doi-18.p'\n",
      "... TAG =  ['133']  :: document length =  3939 words.\n",
      "Processing file 'data/p/2018/lindhal-18.p'\n",
      "... TAG =  ['130']  :: document length =  2946 words.\n",
      "Processing file 'data/p/2018/maenhout-18.p'\n",
      "... TAG =  ['150']  :: document length =  6359 words.\n",
      "Processing file 'data/p/2018/1-s2.0-S0377221716303952-main.p'\n",
      "... TAG =  ['149']  :: document length =  4105 words.\n",
      "Processing file 'data/p/2018/leggieri-18.p'\n",
      "... TAG =  ['154']  :: document length =  2445 words.\n",
      "Processing file 'data/p/2018/gutierrez-jarpa-18.p'\n",
      "... TAG =  ['152']  :: document length =  2462 words.\n",
      "Processing file 'data/p/2018/keshin-18.p'\n",
      "... TAG =  ['143']  :: document length =  4611 words.\n",
      "Processing file 'data/p/2018/guido-18.p'\n",
      "... TAG =  ['124']  :: document length =  6632 words.\n",
      "Processing file 'data/p/2018/irawan-18.p'\n",
      "... TAG =  ['135']  :: document length =  4028 words.\n",
      "Processing file 'data/p/2018/fischetti-18.p'\n",
      "... TAG =  ['110']  :: document length =  4860 words.\n",
      "Processing file 'data/p/2018/framinan-18.p'\n",
      "... TAG =  ['145']  :: document length =  2820 words.\n",
      "Processing file 'data/p/2019/birgin-19.p'\n",
      "... TAG =  ['165']  :: document length =  3852 words.\n",
      "Processing file 'data/p/2019/irawan-19.p'\n",
      "... TAG =  ['174']  :: document length =  5753 words.\n",
      "Processing file 'data/p/2019/guimaraes-19.p'\n",
      "... TAG =  ['160']  :: document length =  4057 words.\n",
      "Processing file 'data/p/2019/lahyani-19.p'\n",
      "... TAG =  ['180']  :: document length =  3377 words.\n",
      "Processing file 'data/p/2019/oliveira-19.p'\n",
      "... TAG =  ['188']  :: document length =  7547 words.\n",
      "Processing file 'data/p/2019/brech-19.p'\n",
      "... TAG =  ['175']  :: document length =  5292 words.\n",
      "Processing file 'data/p/2019/fonseca-19.p'\n",
      "... TAG =  ['179']  :: document length =  4100 words.\n",
      "Processing file 'data/p/2019/raidl-19.p'\n",
      "... TAG =  ['187']  :: document length =  6147 words.\n",
      "Processing file 'data/p/2019/lallaRuiz-19.p'\n",
      "... TAG =  ['163']  :: document length =  2740 words.\n",
      "Processing file 'data/p/2019/nikzad-19.p'\n",
      "... TAG =  ['189']  :: document length =  3963 words.\n",
      "Processing file 'data/p/2019/lin-19.p'\n",
      "... TAG =  ['182']  :: document length =  1950 words.\n",
      "Processing file 'data/p/2019/verbiest-19.p'\n",
      "... TAG =  ['185']  :: document length =  4016 words.\n",
      "Processing file 'data/p/2019/perumal-19.p'\n",
      "... TAG =  ['161']  :: document length =  5209 words.\n",
      "Processing file 'data/p/2019/yu-19.p'\n",
      "... TAG =  ['173']  :: document length =  5098 words.\n",
      "Processing file 'data/p/2019/bertazzi-19.p'\n",
      "... TAG =  ['177']  :: document length =  4732 words.\n",
      "Processing file 'data/p/2019/stalhane-19.p'\n",
      "... TAG =  ['157']  :: document length =  5619 words.\n",
      "Processing file 'data/p/2019/ramos-19.p'\n",
      "... TAG =  ['166']  :: document length =  5091 words.\n",
      "Processing file 'data/p/2019/cunha-19.p'\n",
      "... TAG =  ['164']  :: document length =  3503 words.\n",
      "Processing file 'data/p/2019/leggieri-19.p'\n",
      "... TAG =  ['171']  :: document length =  2445 words.\n",
      "Processing file 'data/p/2019/andersen-19.p'\n",
      "... TAG =  ['169']  :: document length =  4236 words.\n",
      "Processing file 'data/p/2019/hernandez-leandro-19.p'\n",
      "... TAG =  ['184']  :: document length =  2387 words.\n",
      "Processing file 'data/p/2019/chitsaz-19.p'\n",
      "... TAG =  ['168']  :: document length =  5597 words.\n",
      "Processing file 'data/p/2019/bagger-19.p'\n",
      "... TAG =  ['167']  :: document length =  5462 words.\n",
      "Processing file 'data/p/2019/samer-19.p'\n",
      "... TAG =  ['183']  :: document length =  4059 words.\n",
      "Processing file 'data/p/2019/christensen-19.p'\n",
      "... TAG =  ['178']  :: document length =  4727 words.\n",
      "Processing file 'data/p/2019/ghirardi-19.p'\n",
      "... TAG =  ['181']  :: document length =  3487 words.\n",
      "Processing file 'data/p/2019/woo-19.p'\n",
      "... TAG =  ['159']  :: document length =  4018 words.\n",
      "Processing file 'data/p/2019/moussavi-19.p'\n",
      "... TAG =  ['172']  :: document length =  5776 words.\n",
      "Processing file 'data/p/2019/macrina-19.p'\n",
      "... TAG =  ['162']  :: document length =  3707 words.\n",
      "Processing file 'data/p/2019/hernandez-19.p'\n",
      "... TAG =  ['176']  :: document length =  3619 words.\n",
      "Processing file 'data/p/2019/otto-19.p'\n",
      "... TAG =  ['186']  :: document length =  5018 words.\n",
      "Processing file 'data/p/2019/meisel-19.p'\n",
      "... TAG =  ['158']  :: document length =  4229 words.\n",
      "Processing file 'data/p/2019/tautenhain-19.p'\n",
      "... TAG =  ['170']  :: document length =  5566 words.\n",
      "Loaded corpus with 190 documents.\n"
     ]
    }
   ],
   "source": [
    "analyzedDocument = namedtuple('AnalyzedDocument','words tags')\n",
    "year0 = \"2001\"\n",
    "yearT = \"2019\"\n",
    "yearSet = list(range(int(year0), int(yearT)+1))\n",
    "\n",
    "corpus = []\n",
    "\n",
    "for year in yearSet:\n",
    "    \n",
    "    listOfFiles = glob.glob(path.join(utils.Config.prefix,utils.Config.p_dir,str(year),\"*.p\"))\n",
    "\n",
    "    for pFile in listOfFiles:\n",
    "\n",
    "        #print(\"Opening FILE = \", pdfFile)\n",
    "        filename = os.path.basename(pFile)\n",
    "        name, file_extension = os.path.splitext(filename)\n",
    "        ff = path.join(utils.Config.p_dir, str(year), filename)\n",
    "        print(\"Processing file '{0}'\".format(ff))\n",
    "        doc = pickle.load(open(ff, 'rb'))\n",
    "        tags = [str(file2tag[name])]\n",
    "        print(\"... TAG = \", tags, \" :: document length = \", len(doc), \"words.\")\n",
    "        corpus.append(analyzedDocument(doc,tags))\n",
    "        #input(\"aka\")\n",
    "print(\"Loaded corpus with\", len(corpus), \"documents.\")\n",
    "\n"
   ]
  },
  {
   "cell_type": "code",
   "execution_count": 5,
   "metadata": {},
   "outputs": [
    {
     "name": "stderr",
     "output_type": "stream",
     "text": [
      "2019-03-11 14:54:12,369 : INFO : loading Doc2Vec object from models/doc2vec.model\n"
     ]
    },
    {
     "name": "stdout",
     "output_type": "stream",
     "text": [
      "Loading model  models/doc2vec.model\n"
     ]
    },
    {
     "name": "stderr",
     "output_type": "stream",
     "text": [
      "2019-03-11 14:54:12,632 : INFO : loading wv recursively from models/doc2vec.model.wv.* with mmap=None\n",
      "2019-03-11 14:54:12,633 : INFO : loading docvecs recursively from models/doc2vec.model.docvecs.* with mmap=None\n",
      "2019-03-11 14:54:12,634 : INFO : loading vocabulary recursively from models/doc2vec.model.vocabulary.* with mmap=None\n",
      "2019-03-11 14:54:12,635 : INFO : loading trainables recursively from models/doc2vec.model.trainables.* with mmap=None\n",
      "2019-03-11 14:54:12,636 : INFO : loaded models/doc2vec.model\n"
     ]
    },
    {
     "name": "stdout",
     "output_type": "stream",
     "text": [
      "The model contains 473 vectors.\n"
     ]
    }
   ],
   "source": [
    "fullname = path.join(utils.Config.models_dir,utils.Config.nameModel)\n",
    "print(\"Loading model \", fullname)\n",
    "model = doc2vec.Doc2Vec.load(fullname)\n",
    "print(\"The model contains {0} vectors.\".format(len(model.docvecs)))"
   ]
  },
  {
   "cell_type": "code",
   "execution_count": 7,
   "metadata": {
    "collapsed": true
   },
   "outputs": [
    {
     "name": "stdout",
     "output_type": "stream",
     "text": [
      "Vector  0  has rank  0\n",
      "Vector  1  has rank  0\n",
      "Vector  2  has rank  1\n"
     ]
    },
    {
     "ename": "KeyboardInterrupt",
     "evalue": "",
     "output_type": "error",
     "traceback": [
      "\u001b[0;31m---------------------------------------------------------------------------\u001b[0m",
      "\u001b[0;31mKeyboardInterrupt\u001b[0m                         Traceback (most recent call last)",
      "\u001b[0;32m<ipython-input-7-0ed88eea5e9d>\u001b[0m in \u001b[0;36m<module>\u001b[0;34m()\u001b[0m\n\u001b[1;32m      3\u001b[0m     \u001b[0mx\u001b[0m \u001b[0;34m=\u001b[0m \u001b[0;34m[\u001b[0m\u001b[0;34m]\u001b[0m\u001b[0;34m\u001b[0m\u001b[0m\n\u001b[1;32m      4\u001b[0m     \u001b[0;32mfor\u001b[0m \u001b[0midx\u001b[0m \u001b[0;32min\u001b[0m \u001b[0mrange\u001b[0m\u001b[0;34m(\u001b[0m\u001b[0mlen\u001b[0m\u001b[0;34m(\u001b[0m\u001b[0mcorpus\u001b[0m\u001b[0;34m)\u001b[0m\u001b[0;34m)\u001b[0m\u001b[0;34m:\u001b[0m\u001b[0;34m\u001b[0m\u001b[0m\n\u001b[0;32m----> 5\u001b[0;31m         \u001b[0mv0\u001b[0m \u001b[0;34m=\u001b[0m \u001b[0mmodel\u001b[0m\u001b[0;34m.\u001b[0m\u001b[0minfer_vector\u001b[0m\u001b[0;34m(\u001b[0m\u001b[0mcorpus\u001b[0m\u001b[0;34m[\u001b[0m\u001b[0midx\u001b[0m\u001b[0;34m]\u001b[0m\u001b[0;34m.\u001b[0m\u001b[0mwords\u001b[0m\u001b[0;34m,\u001b[0m \u001b[0msteps\u001b[0m\u001b[0;34m=\u001b[0m\u001b[0;36m100\u001b[0m\u001b[0;34m)\u001b[0m\u001b[0;34m\u001b[0m\u001b[0m\n\u001b[0m\u001b[1;32m      6\u001b[0m         \u001b[0msims\u001b[0m \u001b[0;34m=\u001b[0m \u001b[0mmodel\u001b[0m\u001b[0;34m.\u001b[0m\u001b[0mdocvecs\u001b[0m\u001b[0;34m.\u001b[0m\u001b[0mmost_similar\u001b[0m\u001b[0;34m(\u001b[0m\u001b[0;34m[\u001b[0m\u001b[0mv0\u001b[0m\u001b[0;34m]\u001b[0m\u001b[0;34m,\u001b[0m \u001b[0mtopn\u001b[0m\u001b[0;34m=\u001b[0m\u001b[0mlen\u001b[0m\u001b[0;34m(\u001b[0m\u001b[0mcorpus\u001b[0m\u001b[0;34m)\u001b[0m\u001b[0;34m)\u001b[0m\u001b[0;34m\u001b[0m\u001b[0m\n\u001b[1;32m      7\u001b[0m         \u001b[0mrank\u001b[0m \u001b[0;34m=\u001b[0m \u001b[0;34m[\u001b[0m\u001b[0midx\u001b[0m \u001b[0;32mfor\u001b[0m \u001b[0midx\u001b[0m\u001b[0;34m,\u001b[0m\u001b[0msim\u001b[0m \u001b[0;32min\u001b[0m \u001b[0msims\u001b[0m\u001b[0;34m]\u001b[0m\u001b[0;34m.\u001b[0m\u001b[0mindex\u001b[0m\u001b[0;34m(\u001b[0m\u001b[0mstr\u001b[0m\u001b[0;34m(\u001b[0m\u001b[0midx\u001b[0m\u001b[0;34m)\u001b[0m\u001b[0;34m)\u001b[0m\u001b[0;34m\u001b[0m\u001b[0m\n",
      "\u001b[0;32m~/anaconda3/lib/python3.5/site-packages/gensim/models/doc2vec.py\u001b[0m in \u001b[0;36minfer_vector\u001b[0;34m(self, doc_words, alpha, min_alpha, steps)\u001b[0m\n\u001b[1;32m    561\u001b[0m                 train_document_dm(\n\u001b[1;32m    562\u001b[0m                     \u001b[0mself\u001b[0m\u001b[0;34m,\u001b[0m \u001b[0mdoc_words\u001b[0m\u001b[0;34m,\u001b[0m \u001b[0mdoctag_indexes\u001b[0m\u001b[0;34m,\u001b[0m \u001b[0malpha\u001b[0m\u001b[0;34m,\u001b[0m \u001b[0mwork\u001b[0m\u001b[0;34m,\u001b[0m \u001b[0mneu1\u001b[0m\u001b[0;34m,\u001b[0m\u001b[0;34m\u001b[0m\u001b[0m\n\u001b[0;32m--> 563\u001b[0;31m                     \u001b[0mlearn_words\u001b[0m\u001b[0;34m=\u001b[0m\u001b[0;32mFalse\u001b[0m\u001b[0;34m,\u001b[0m \u001b[0mlearn_hidden\u001b[0m\u001b[0;34m=\u001b[0m\u001b[0;32mFalse\u001b[0m\u001b[0;34m,\u001b[0m \u001b[0mdoctag_vectors\u001b[0m\u001b[0;34m=\u001b[0m\u001b[0mdoctag_vectors\u001b[0m\u001b[0;34m,\u001b[0m \u001b[0mdoctag_locks\u001b[0m\u001b[0;34m=\u001b[0m\u001b[0mdoctag_locks\u001b[0m\u001b[0;34m\u001b[0m\u001b[0m\n\u001b[0m\u001b[1;32m    564\u001b[0m                 )\n\u001b[1;32m    565\u001b[0m             \u001b[0malpha\u001b[0m \u001b[0;34m=\u001b[0m \u001b[0;34m(\u001b[0m\u001b[0;34m(\u001b[0m\u001b[0malpha\u001b[0m \u001b[0;34m-\u001b[0m \u001b[0mmin_alpha\u001b[0m\u001b[0;34m)\u001b[0m \u001b[0;34m/\u001b[0m \u001b[0;34m(\u001b[0m\u001b[0msteps\u001b[0m \u001b[0;34m-\u001b[0m \u001b[0mi\u001b[0m\u001b[0;34m)\u001b[0m\u001b[0;34m)\u001b[0m \u001b[0;34m+\u001b[0m \u001b[0mmin_alpha\u001b[0m\u001b[0;34m\u001b[0m\u001b[0m\n",
      "\u001b[0;31mKeyboardInterrupt\u001b[0m: "
     ]
    }
   ],
   "source": [
    "withTest = 1\n",
    "if withTest:\n",
    "    x = []\n",
    "    for idx in range(len(corpus)):\n",
    "        v0 = model.infer_vector(corpus[idx].words, steps=100)\n",
    "        sims = model.docvecs.most_similar([v0], topn=len(corpus))\n",
    "        rank = [idx for idx,sim in sims].index(str(idx))\n",
    "        x.append(rank)\n",
    "        #if idx % 5 == 0:\n",
    "        print(\"Vector \", idx, \" has rank \", rank)"
   ]
  },
  {
   "cell_type": "code",
   "execution_count": 6,
   "metadata": {},
   "outputs": [
    {
     "name": "stdout",
     "output_type": "stream",
     "text": [
      "Processing document  0\n",
      "Processing document  25\n",
      "Processing document  50\n",
      "Processing document  75\n",
      "Processing document  100\n",
      "Processing document  125\n",
      "Processing document  150\n",
      "Processing document  175\n",
      "Done.\n"
     ]
    }
   ],
   "source": [
    "vecs = []\n",
    "count = 0\n",
    "for tag in dfMap[\"id\"]:\n",
    "    if count % 25 == 0:\n",
    "        print(\"Processing document \", tag)\n",
    "    #v0 = model.docvecs[tag]\n",
    "    v0 = model.infer_vector(corpus[tag].words, steps=100)\n",
    "    vecs.append(v0)  \n",
    "    count += 1\n",
    "print(\"Done.\")   "
   ]
  },
  {
   "cell_type": "code",
   "execution_count": 10,
   "metadata": {},
   "outputs": [
    {
     "data": {
      "image/png": "[encoded data removed]",
      "text/plain": [
       "<Figure size 1440x720 with 1 Axes>"
      ]
     },
     "metadata": {},
     "output_type": "display_data"
    }
   ],
   "source": [
    "subset = [0,1,3,4,5,7,8,20,119] # 0 removed\n",
    "\n",
    "pca = sklearnPCA(n_components=2) #2-dimensional PCA\n",
    "transformed = pd.DataFrame(pca.fit_transform(vecs))\n",
    "\n",
    "fig, ax = plt.subplots(figsize=(20, 10))\n",
    "plt.scatter(transformed[0], transformed[1], c=labels, alpha=0.7)\n",
    "\n",
    "centers = pd.DataFrame(pca.fit_transform(means))\n",
    "plt.scatter(centers[0], centers[1], c=\"red\", s=100, marker=\"x\")\n",
    "#for idx in dfMap[\"id\"]:\n",
    "for idx in subset:\n",
    "    ax.annotate(str(idx), (transformed[0][idx], transformed[1][idx]), fontsize=15)\n",
    "plt.show()"
   ]
  },
  {
   "cell_type": "markdown",
   "metadata": {},
   "source": [
    "## K-mean Clustering"
   ]
  },
  {
   "cell_type": "code",
   "execution_count": 9,
   "metadata": {
    "collapsed": true
   },
   "outputs": [],
   "source": [
    "from nltk.cluster import KMeansClusterer"
   ]
  },
  {
   "cell_type": "code",
   "execution_count": 7,
   "metadata": {
    "collapsed": true
   },
   "outputs": [],
   "source": [
    "def nltkClustering(vectors, nrClusters, repeats):\n",
    "    \"\"\"\n",
    "    Use the clustering function of NLTK. The algorithm is applied on the set of vectors contained in the \n",
    "    datastructure `vectors`.\n",
    "    \"\"\"\n",
    "\n",
    "    num_clusters = nrClusters\n",
    "    kclusterer = KMeansClusterer(num_clusters, \n",
    "        #distance = nltk.cluster.util.cosine_distance,\n",
    "        distance = nltk.cluster.util.euclidean_distance,\n",
    "        repeats = repeats)\n",
    "    labels = kclusterer.cluster(vectors, assign_clusters=True)\n",
    "    score = metrics.silhouette_score(vectors, labels, metric=\"cosine\")\n",
    "    ch = metrics.calinski_harabaz_score(vectors, labels)\n",
    "    means = kclusterer.means()\n",
    "    print(\"Silhouette score (nc = {0:3d}) = {1:8.5f}. Calinski-Harabaz Score = {2:8.5f}\".format(nrClusters, score,ch))\n",
    "\n",
    "    return labels, score, ch, means"
   ]
  },
  {
   "cell_type": "code",
   "execution_count": 8,
   "metadata": {},
   "outputs": [
    {
     "name": "stdout",
     "output_type": "stream",
     "text": [
      "190\n",
      "Silhouette score (nc =   3) =  0.03517. Calinski-Harabaz Score =  8.76329\n",
      "Silhouette score (nc =   4) =  0.02982. Calinski-Harabaz Score =  7.25653\n",
      "Silhouette score (nc =   5) =  0.02908. Calinski-Harabaz Score =  7.07230\n",
      "Silhouette score (nc =   6) =  0.01884. Calinski-Harabaz Score =  5.45614\n",
      "Silhouette score (nc =   7) =  0.02004. Calinski-Harabaz Score =  5.17292\n",
      "Silhouette score (nc =   8) =  0.02080. Calinski-Harabaz Score =  4.89183\n",
      "Silhouette score (nc =   9) = -0.00789. Calinski-Harabaz Score =  4.40633\n"
     ]
    }
   ],
   "source": [
    "print(len(vecs))\n",
    "for nc in range(3,10):\n",
    "    label, score, ch, means = nltkClustering(vecs, nrClusters = nc, repeats=200)\n"
   ]
  },
  {
   "cell_type": "code",
   "execution_count": 71,
   "metadata": {},
   "outputs": [
    {
     "name": "stdout",
     "output_type": "stream",
     "text": [
      "Silhouette score (nc =  10  ) =  -0.0423993\n",
      "Silhouette score (nc =  11  ) =  -0.01067\n",
      "Silhouette score (nc =  12  ) =  -0.0135621\n",
      "Silhouette score (nc =  13  ) =  -0.0444899\n",
      "Silhouette score (nc =  14  ) =  -0.00254362\n",
      "Silhouette score (nc =  15  ) =  -0.0451179\n",
      "Silhouette score (nc =  16  ) =  -0.02658\n",
      "Silhouette score (nc =  17  ) =  -0.0178666\n",
      "Silhouette score (nc =  18  ) =  -0.0194981\n",
      "Silhouette score (nc =  19  ) =  -0.0228505\n"
     ]
    }
   ],
   "source": [
    "for nc in range(10,20):\n",
    "    label, score, ch, means = nltkClustering(vecs, nrClusters = nc, repeats=50)"
   ]
  },
  {
   "cell_type": "code",
   "execution_count": 86,
   "metadata": {},
   "outputs": [
    {
     "name": "stdout",
     "output_type": "stream",
     "text": [
      "Silhouette score (nc =  3  ) =  0.0445612\n"
     ]
    }
   ],
   "source": [
    "labels, score, ch, means = nltkClustering(vecs, nrClusters = 3, repeats=50)"
   ]
  },
  {
   "cell_type": "code",
   "execution_count": 9,
   "metadata": {},
   "outputs": [
    {
     "name": "stdout",
     "output_type": "stream",
     "text": [
      "Silhouette score (nc =   4) =  0.04459. Calinski-Harabaz Score =  7.48244\n"
     ]
    }
   ],
   "source": [
    "labels, score, ch, means = nltkClustering(vecs, nrClusters = 4, repeats=200)"
   ]
  },
  {
   "cell_type": "markdown",
   "metadata": {},
   "source": [
    "Compute distance of each document to the center of its cluster."
   ]
  },
  {
   "cell_type": "code",
   "execution_count": 100,
   "metadata": {
    "collapsed": true
   },
   "outputs": [],
   "source": [
    "def compute_distances(tags, labels, means, vecs):\n",
    "    dists = []\n",
    "    for tag,lab,vv in zip(tags, labels, vecs):\n",
    "        meanVec = means[lab]\n",
    "        dd = ssd.cosine(vv,meanVec)\n",
    "        dists.append(dd)\n",
    "    return dists\n"
   ]
  },
  {
   "cell_type": "code",
   "execution_count": 169,
   "metadata": {
    "collapsed": true
   },
   "outputs": [],
   "source": [
    "dists = compute_distances(dfMap[\"id\"], labels, means, vecs)"
   ]
  },
  {
   "cell_type": "code",
   "execution_count": 170,
   "metadata": {},
   "outputs": [
    {
     "name": "stdout",
     "output_type": "stream",
     "text": [
      "   clusters  distance  id           name\n",
      "0         1  0.091041   0    taillard-01\n",
      "1         1  0.101492   1      hansen-01\n",
      "2         2  0.056678   2  dumitrescu-03\n",
      "3         2  0.066550   3   fischetti-03\n",
      "4         1  0.077153   4   fischetti-04\n"
     ]
    }
   ],
   "source": [
    "df = pd.DataFrame({\n",
    "    \"id\" : dfMap[\"id\"],\n",
    "    \"name\": dfMap[\"name\"],\n",
    "    \"clusters\": labels,\n",
    "    \"distance\": dists\n",
    "})\n",
    "print(df.head())\n",
    "df.to_csv(\"data/clustersNltk.csv\")"
   ]
  },
  {
   "cell_type": "markdown",
   "metadata": {},
   "source": [
    "Most similar words to cluster centers."
   ]
  },
  {
   "cell_type": "code",
   "execution_count": 38,
   "metadata": {},
   "outputs": [
    {
     "name": "stdout",
     "output_type": "stream",
     "text": [
      "Cluster  0\n",
      "[('aziz', 0.3254750967025757), ('symposium', 0.2903754711151123), ('hosting', 0.27444127202033997), ('valerie', 0.27270638942718506), ('angel', 0.2535954713821411), ('ettore', 0.24598684906959534), ('nanomedicine', 0.2454141527414322), ('poisson', 0.23141519725322723), ('regis', 0.22857046127319336), ('hygiene', 0.22117111086845398), ('oppermann', 0.21342733502388), ('belfort', 0.21286557614803314), ('nickel', 0.2111763060092926), ('sorbonne', 0.2101992666721344), ('saturation', 0.20825961232185364), ('paul', 0.19986316561698914), ('disability', 0.18745474517345428), ('citation', 0.18718472123146057), ('consiglio', 0.185280904173851), ('icd', 0.18509499728679657), ('compiegne', 0.1766752004623413), ('nazionale', 0.1764272302389145), ('marie', 0.17572179436683655), ('istituto', 0.17105886340141296), ('eager', 0.16977626085281372), ('copyright', 0.16957856714725494), ('milan', 0.16647621989250183), ('united', 0.16431358456611633), ('asd', 0.163843035697937), ('clash', 0.16151946783065796)]\n",
      "Cluster  1\n",
      "[('aziz', 0.40141060948371887), ('symposium', 0.3568536043167114), ('hosting', 0.3252326250076294), ('valerie', 0.306716650724411), ('nanomedicine', 0.2895470857620239), ('poisson', 0.2748240828514099), ('hygiene', 0.26492154598236084), ('nickel', 0.2625775635242462), ('angel', 0.2577027976512909), ('ettore', 0.249367818236351), ('saturation', 0.24908635020256042), ('oppermann', 0.23982833325862885), ('sorbonne', 0.23424923419952393), ('regis', 0.2291233241558075), ('paul', 0.22634336352348328), ('disability', 0.2251562625169754), ('citation', 0.22224614024162292), ('belfort', 0.21928563714027405), ('icd', 0.20136606693267822), ('marie', 0.1978023648262024), ('eager', 0.1931450068950653), ('copyright', 0.19263213872909546), ('compiegne', 0.18954454362392426), ('milan', 0.18921434879302979), ('consiglio', 0.18884427845478058), ('merlot', 0.18301741778850555), ('swc', 0.18037700653076172), ('nazionale', 0.17767566442489624), ('provisioning', 0.17521356046199799), ('wsc', 0.17437365651130676)]\n",
      "Cluster  2\n",
      "[('aziz', 0.3868623971939087), ('symposium', 0.3526080250740051), ('hosting', 0.3396710753440857), ('valerie', 0.3199053406715393), ('nanomedicine', 0.2920774519443512), ('hygiene', 0.28792357444763184), ('poisson', 0.2742791175842285), ('angel', 0.2717280387878418), ('ettore', 0.2648366093635559), ('saturation', 0.25123122334480286), ('regis', 0.243393674492836), ('nickel', 0.24333007633686066), ('oppermann', 0.24273093044757843), ('sorbonne', 0.24268558621406555), ('disability', 0.23753201961517334), ('belfort', 0.22989986836910248), ('citation', 0.21282748878002167), ('compiegne', 0.2095482349395752), ('icd', 0.20658263564109802), ('consiglio', 0.20501521229743958), ('paul', 0.20491477847099304), ('marie', 0.1984727382659912), ('merlot', 0.19376565515995026), ('eager', 0.1934715211391449), ('nazionale', 0.19315370917320251), ('copyright', 0.18895214796066284), ('milan', 0.1808815598487854), ('united', 0.17913924157619476), ('clash', 0.17696285247802734), ('rising', 0.17564573884010315)]\n",
      "Cluster  3\n",
      "[('aziz', 0.3932703733444214), ('symposium', 0.35608217120170593), ('valerie', 0.3195091485977173), ('hosting', 0.31515318155288696), ('nanomedicine', 0.2861964702606201), ('hygiene', 0.27636003494262695), ('angel', 0.2704774737358093), ('poisson', 0.26438719034194946), ('ettore', 0.2572816014289856), ('oppermann', 0.24575656652450562), ('nickel', 0.2449999749660492), ('saturation', 0.23988407850265503), ('disability', 0.2347254753112793), ('regis', 0.2340017706155777), ('sorbonne', 0.2263406217098236), ('belfort', 0.22040468454360962), ('compiegne', 0.21598084270954132), ('icd', 0.21291841566562653), ('paul', 0.21120363473892212), ('marie', 0.20587092638015747), ('consiglio', 0.20125731825828552), ('citation', 0.20052644610404968), ('eager', 0.19816642999649048), ('nazionale', 0.1906328946352005), ('merlot', 0.18763995170593262), ('copyright', 0.1875225007534027), ('milan', 0.18261362612247467), ('united', 0.17716491222381592), ('provisioning', 0.17577534914016724), ('redeployment', 0.1722741425037384)]\n",
      "Cluster  4\n",
      "[('aziz', 0.3882715106010437), ('symposium', 0.36417797207832336), ('valerie', 0.3093852698802948), ('nanomedicine', 0.29863759875297546), ('hosting', 0.2985321879386902), ('hygiene', 0.2813870906829834), ('poisson', 0.2656961679458618), ('ettore', 0.2631916403770447), ('angel', 0.25885894894599915), ('saturation', 0.25278419256210327), ('nickel', 0.2504149079322815), ('oppermann', 0.2494327425956726), ('regis', 0.23942546546459198), ('belfort', 0.23550352454185486), ('disability', 0.23388007283210754), ('sorbonne', 0.22025704383850098), ('compiegne', 0.2177824229001999), ('icd', 0.2125328630208969), ('citation', 0.20828065276145935), ('eager', 0.20297908782958984), ('copyright', 0.2027389407157898), ('marie', 0.20216184854507446), ('consiglio', 0.19635333120822906), ('paul', 0.1933036744594574), ('merlot', 0.1869695782661438), ('nazionale', 0.18467611074447632), ('provisioning', 0.1799885332584381), ('united', 0.17854580283164978), ('wsc', 0.17831331491470337), ('redeployment', 0.17550154030323029)]\n"
     ]
    }
   ],
   "source": [
    "clusters = list(set(labels))\n",
    "nClusters = len(clusters)\n",
    "for cc in clusters:\n",
    "    print(\"Cluster \", cc)\n",
    "    mm = model.wv.similar_by_vector(means[cc], topn=30)\n",
    "    print(mm)"
   ]
  },
  {
   "cell_type": "markdown",
   "metadata": {},
   "source": [
    "## Working on a subset of documents\n",
    "\n",
    "The idea is to select a subset of papers, i.e., those associated to the presentation of a general matheuristics, and work on them. We want to create a full distance matrix as well as a clustering solution."
   ]
  },
  {
   "cell_type": "code",
   "execution_count": 23,
   "metadata": {},
   "outputs": [
    {
     "name": "stdout",
     "output_type": "stream",
     "text": [
      "['taillard-01', 'hansen-01', 'fischetti-03', 'fischetti-04', 'danna-05', 'sniedovich-06', 'hansen-06', 'angeletti-10', 'taillard-18']\n",
      "9\n",
      "Silhouette score (nc =   2) =  0.06275. Calinski-Harabaz Score =  2.11868\n",
      "Best solution with 2 clusters.\n",
      "Silhouette score (nc =   3) =  0.06870. Calinski-Harabaz Score =  2.16972\n",
      "Best solution with 3 clusters.\n",
      "Silhouette score (nc =   4) =  0.08319. Calinski-Harabaz Score =  2.71712\n",
      "Best solution with 4 clusters.\n",
      "Silhouette score (nc =   5) =  0.04408. Calinski-Harabaz Score =  2.37267\n"
     ]
    },
    {
     "data": {
      "image/png": "[encoded data removed]",
      "text/plain": [
       "<Figure size 432x288 with 1 Axes>"
      ]
     },
     "metadata": {},
     "output_type": "display_data"
    }
   ],
   "source": [
    "subset = [0,1,3,4,5,7,8,20,119]\n",
    "subnames = [dfMap[\"name\"].loc[i] for i in subset]\n",
    "print(subnames)\n",
    "subvecs = [vecs[i] for i in subset]\n",
    "print(len(subvecs))\n",
    "bestScore = -1.0\n",
    "for nc in range(2,6):\n",
    "    sublabel, score, ch, submeans = nltkClustering(subvecs, nrClusters = nc, repeats=200)\n",
    "    if score > bestScore:\n",
    "        bestScore = score\n",
    "        bestLabels = sublabel\n",
    "        print(\"Best solution with {0} clusters.\".format(nc))\n",
    "\n",
    "pca = sklearnPCA(n_components=2) #2-dimensional PCA\n",
    "transformed = pd.DataFrame(pca.fit_transform(subvecs))\n",
    "plt.scatter(transformed[0], transformed[1], c=bestLabels)\n",
    "plt.show()"
   ]
  },
  {
   "cell_type": "code",
   "execution_count": 191,
   "metadata": {},
   "outputs": [
    {
     "name": "stdout",
     "output_type": "stream",
     "text": [
      "   clusters      distance   id           name\n",
      "0         0  1.558822e-01    0    taillard-01\n",
      "1         0  1.627910e-01    1      hansen-01\n",
      "2         1  7.520525e-02    3   fischetti-03\n",
      "3         1  5.557095e-02    4   fischetti-04\n",
      "4         1  1.239442e-01    5       danna-05\n",
      "5         2  2.303253e-01    7  sniedovich-06\n",
      "6         0  1.363392e-01    8      hansen-06\n",
      "7         0  1.034675e-07   20   angeletti-10\n",
      "8         1  1.594130e-01  119    taillard-18\n"
     ]
    }
   ],
   "source": [
    "dists = compute_distances(subset, bestLabels, submeans, subvecs)\n",
    "df = pd.DataFrame({\n",
    "    \"id\" : subset,\n",
    "    \"name\": subnames,\n",
    "    \"clusters\": bestLabels,\n",
    "    \"distance\": dists\n",
    "})\n",
    "print(df)"
   ]
  },
  {
   "cell_type": "markdown",
   "metadata": {},
   "source": [
    "## DBClustering\n",
    "\n",
    "The advantage of this method is that it does not force every point of the set to be assigned to a cluster. Some points can be treated as \"noise\" and are left out from the assignment. This sounds like a good idea, since it might find that only some of the users are grouped together.\n",
    "\n",
    "There are basically two versions of these types of clustering algorithms:\n",
    "- non-hierarchical: DBSCAN\n",
    "- hierarchical : HDBSCAN\n",
    "\n",
    "Below, I use both of them. As we can see, the results lead to a non-meaningful assigment. Only one cluster is created, regardless of which method and metric are used. "
   ]
  },
  {
   "cell_type": "code",
   "execution_count": 112,
   "metadata": {
    "collapsed": true
   },
   "outputs": [],
   "source": [
    "from sklearn.cluster import DBSCAN\n",
    "from sklearn import metrics\n",
    "from sklearn.datasets.samples_generator import make_blobs\n",
    "from sklearn.preprocessing import StandardScaler"
   ]
  },
  {
   "cell_type": "code",
   "execution_count": 154,
   "metadata": {},
   "outputs": [
    {
     "name": "stdout",
     "output_type": "stream",
     "text": [
      "Algo = auto\t Metric = cosine\t Nr.Cluster =   1, Silhouette =  0.00000 Calinski-Harabasz = -9.99990\n",
      "Algo = auto\t Metric = euclidean\t Nr.Cluster =   0, Silhouette =  0.00000 Calinski-Harabasz = -9.99990\n",
      "Algo = auto\t Metric = correlation\t Nr.Cluster =   1, Silhouette =  0.00000 Calinski-Harabasz = -9.99990\n",
      "Algo = auto\t Metric = matching\t Nr.Cluster =   1, Silhouette =  0.00000 Calinski-Harabasz = -9.99990\n",
      "Algo = ball_tree\t Metric = euclidean\t Nr.Cluster =   0, Silhouette =  0.00000 Calinski-Harabasz = -9.99990\n",
      "Algo = ball_tree\t Metric = matching\t Nr.Cluster =   1, Silhouette =  0.00000 Calinski-Harabasz = -9.99990\n",
      "Algo = kd_tree\t Metric = euclidean\t Nr.Cluster =   0, Silhouette =  0.00000 Calinski-Harabasz = -9.99990\n",
      "Algo = brute\t Metric = cosine\t Nr.Cluster =   1, Silhouette =  0.00000 Calinski-Harabasz = -9.99990\n",
      "Algo = brute\t Metric = euclidean\t Nr.Cluster =   0, Silhouette =  0.00000 Calinski-Harabasz = -9.99990\n",
      "Algo = brute\t Metric = correlation\t Nr.Cluster =   1, Silhouette =  0.00000 Calinski-Harabasz = -9.99990\n"
     ]
    },
    {
     "name": "stderr",
     "output_type": "stream",
     "text": [
      "/home/mcaserta/anaconda3/lib/python3.5/site-packages/sklearn/utils/validation.py:444: DataConversionWarning: Data with input dtype float32 was converted to bool by check_pairwise_arrays.\n",
      "  warnings.warn(msg, DataConversionWarning)\n"
     ]
    },
    {
     "name": "stdout",
     "output_type": "stream",
     "text": [
      "Algo = brute\t Metric = matching\t Nr.Cluster =   1, Silhouette =  0.00000 Calinski-Harabasz = -9.99990\n"
     ]
    }
   ],
   "source": [
    "#X = StandardScaler().fit_transform(vecs)\n",
    "\n",
    "algos = ['auto', 'ball_tree', 'kd_tree', 'brute']\n",
    "all_metrics = ['cosine', 'euclidean', 'correlation', 'matching']\n",
    "\n",
    "# Compute DBSCAN\n",
    "for algo in algos:\n",
    "    for mm in all_metrics:\n",
    "        X = vecs\n",
    "        try:\n",
    "            db = DBSCAN(eps=1, min_samples=2, n_jobs=-1, algorithm=algo, metric=mm).fit(X)\n",
    "        except:\n",
    "            continue\n",
    "        core_samples_mask = np.zeros_like(db.labels_, dtype=bool)\n",
    "        core_samples_mask[db.core_sample_indices_] = True\n",
    "        labels = db.labels_\n",
    "\n",
    "        # Number of clusters in labels, ignoring noise if present.\n",
    "        n_clusters_ = len(set(labels)) - (1 if -1 in labels else 0)\n",
    "        #print(labels)\n",
    "        try:\n",
    "            score = metrics.silhouette_score(X, labels, metric=mm)\n",
    "            ch = metrics.calinski_harabaz_score(vectors, labels)\n",
    "        except:\n",
    "            score = 0.0\n",
    "            ch    = -9.9999\n",
    "        print(\"Algo = {0}\\t Metric = {1}\\t Nr.Cluster = {2:3d}, Silhouette = {3:8.5f} Calinski-Harabasz = {4:8.5f}\".format(algo, mm, n_clusters_, score, ch))"
   ]
  },
  {
   "cell_type": "markdown",
   "metadata": {},
   "source": [
    "## HDBClustering\n",
    "\n",
    "A hierarchical clustering algorithm based on DBClustering."
   ]
  },
  {
   "cell_type": "code",
   "execution_count": 99,
   "metadata": {
    "collapsed": true
   },
   "outputs": [],
   "source": [
    "import hdbscan\n",
    "from sklearn.datasets import make_blobs"
   ]
  },
  {
   "cell_type": "code",
   "execution_count": 100,
   "metadata": {},
   "outputs": [
    {
     "data": {
      "text/html": [
       "<div>\n",
       "<style>\n",
       "    .dataframe thead tr:only-child th {\n",
       "        text-align: right;\n",
       "    }\n",
       "\n",
       "    .dataframe thead th {\n",
       "        text-align: left;\n",
       "    }\n",
       "\n",
       "    .dataframe tbody tr th {\n",
       "        vertical-align: top;\n",
       "    }\n",
       "</style>\n",
       "<table border=\"1\" class=\"dataframe\">\n",
       "  <thead>\n",
       "    <tr style=\"text-align: right;\">\n",
       "      <th></th>\n",
       "      <th>0</th>\n",
       "      <th>1</th>\n",
       "      <th>2</th>\n",
       "      <th>3</th>\n",
       "      <th>4</th>\n",
       "      <th>5</th>\n",
       "      <th>6</th>\n",
       "      <th>7</th>\n",
       "      <th>8</th>\n",
       "      <th>9</th>\n",
       "    </tr>\n",
       "  </thead>\n",
       "  <tbody>\n",
       "    <tr>\n",
       "      <th>0</th>\n",
       "      <td>8.383156</td>\n",
       "      <td>-8.277472</td>\n",
       "      <td>-1.806924</td>\n",
       "      <td>-4.294713</td>\n",
       "      <td>8.048482</td>\n",
       "      <td>-8.736692</td>\n",
       "      <td>-5.298942</td>\n",
       "      <td>-7.140613</td>\n",
       "      <td>-1.446901</td>\n",
       "      <td>7.622145</td>\n",
       "    </tr>\n",
       "    <tr>\n",
       "      <th>1</th>\n",
       "      <td>7.820244</td>\n",
       "      <td>5.547277</td>\n",
       "      <td>-7.719892</td>\n",
       "      <td>10.660296</td>\n",
       "      <td>0.642026</td>\n",
       "      <td>-3.129945</td>\n",
       "      <td>5.104059</td>\n",
       "      <td>7.108933</td>\n",
       "      <td>-4.469921</td>\n",
       "      <td>7.653229</td>\n",
       "    </tr>\n",
       "    <tr>\n",
       "      <th>2</th>\n",
       "      <td>9.353370</td>\n",
       "      <td>3.941909</td>\n",
       "      <td>-6.619772</td>\n",
       "      <td>9.697384</td>\n",
       "      <td>1.642578</td>\n",
       "      <td>-3.685025</td>\n",
       "      <td>4.994648</td>\n",
       "      <td>5.875471</td>\n",
       "      <td>-5.046464</td>\n",
       "      <td>6.239185</td>\n",
       "    </tr>\n",
       "    <tr>\n",
       "      <th>3</th>\n",
       "      <td>9.904518</td>\n",
       "      <td>5.838807</td>\n",
       "      <td>-6.097169</td>\n",
       "      <td>9.411649</td>\n",
       "      <td>1.604958</td>\n",
       "      <td>-3.310898</td>\n",
       "      <td>5.262367</td>\n",
       "      <td>8.806206</td>\n",
       "      <td>-5.563347</td>\n",
       "      <td>6.135471</td>\n",
       "    </tr>\n",
       "    <tr>\n",
       "      <th>4</th>\n",
       "      <td>-8.013914</td>\n",
       "      <td>4.779585</td>\n",
       "      <td>7.413801</td>\n",
       "      <td>9.820288</td>\n",
       "      <td>10.244152</td>\n",
       "      <td>5.213157</td>\n",
       "      <td>-10.519504</td>\n",
       "      <td>-0.609937</td>\n",
       "      <td>7.631231</td>\n",
       "      <td>-9.745499</td>\n",
       "    </tr>\n",
       "  </tbody>\n",
       "</table>\n",
       "</div>"
      ],
      "text/plain": [
       "          0         1         2          3          4         5          6  \\\n",
       "0  8.383156 -8.277472 -1.806924  -4.294713   8.048482 -8.736692  -5.298942   \n",
       "1  7.820244  5.547277 -7.719892  10.660296   0.642026 -3.129945   5.104059   \n",
       "2  9.353370  3.941909 -6.619772   9.697384   1.642578 -3.685025   4.994648   \n",
       "3  9.904518  5.838807 -6.097169   9.411649   1.604958 -3.310898   5.262367   \n",
       "4 -8.013914  4.779585  7.413801   9.820288  10.244152  5.213157 -10.519504   \n",
       "\n",
       "          7         8         9  \n",
       "0 -7.140613 -1.446901  7.622145  \n",
       "1  7.108933 -4.469921  7.653229  \n",
       "2  5.875471 -5.046464  6.239185  \n",
       "3  8.806206 -5.563347  6.135471  \n",
       "4 -0.609937  7.631231 -9.745499  "
      ]
     },
     "execution_count": 100,
     "metadata": {},
     "output_type": "execute_result"
    }
   ],
   "source": [
    "blobs, labels = make_blobs(n_samples=2000, n_features=10)\n",
    "pd.DataFrame(blobs).head()"
   ]
  },
  {
   "cell_type": "code",
   "execution_count": 101,
   "metadata": {},
   "outputs": [
    {
     "data": {
      "text/plain": [
       "HDBSCAN(algorithm='prims_kdtree', allow_single_cluster=False, alpha=1.0,\n",
       "    approx_min_span_tree=True, cluster_selection_method='eom',\n",
       "    core_dist_n_jobs=4, gen_min_span_tree=False, leaf_size=40,\n",
       "    match_reference_implementation=False, memory=Memory(cachedir=None),\n",
       "    metric='euclidean', min_cluster_size=3, min_samples=None, p=None,\n",
       "    prediction_data=False)"
      ]
     },
     "execution_count": 101,
     "metadata": {},
     "output_type": "execute_result"
    }
   ],
   "source": [
    "clusterer = hdbscan.HDBSCAN(min_cluster_size=3, algorithm='prims_kdtree')\n",
    "clusterer.fit(blobs)"
   ]
  },
  {
   "cell_type": "code",
   "execution_count": 102,
   "metadata": {
    "collapsed": true
   },
   "outputs": [],
   "source": [
    "from sklearn.cluster import DBSCAN\n",
    "from sklearn import metrics\n",
    "from sklearn.preprocessing import StandardScaler"
   ]
  },
  {
   "cell_type": "code",
   "execution_count": 103,
   "metadata": {
    "collapsed": true
   },
   "outputs": [],
   "source": [
    "X = StandardScaler().fit_transform(vecs)"
   ]
  },
  {
   "cell_type": "code",
   "execution_count": 104,
   "metadata": {
    "collapsed": true
   },
   "outputs": [],
   "source": [
    "db = DBSCAN(eps=0.3, min_samples=5, n_jobs=-1, algorithm=\"kd_tree\").fit(vecs)\n",
    "core_samples_mask = np.zeros_like(db.labels_, dtype=bool)\n",
    "core_samples_mask[db.core_sample_indices_] = True\n",
    "labels = db.labels_"
   ]
  },
  {
   "cell_type": "code",
   "execution_count": 105,
   "metadata": {},
   "outputs": [
    {
     "name": "stdout",
     "output_type": "stream",
     "text": [
      "[-1 -1 -1 -1 -1 -1 -1 -1 -1 -1 -1 -1 -1 -1 -1 -1 -1 -1 -1 -1 -1 -1 -1 -1 -1\n",
      " -1 -1 -1 -1 -1 -1 -1 -1 -1 -1 -1 -1 -1 -1 -1 -1 -1 -1 -1 -1 -1 -1 -1 -1 -1\n",
      " -1 -1 -1 -1 -1 -1 -1 -1 -1 -1 -1 -1 -1 -1 -1 -1 -1 -1 -1 -1 -1 -1 -1 -1 -1\n",
      " -1 -1 -1 -1 -1 -1 -1 -1 -1 -1 -1 -1 -1 -1 -1 -1 -1 -1 -1 -1 -1 -1 -1 -1 -1\n",
      " -1 -1 -1 -1 -1 -1 -1 -1 -1 -1 -1 -1 -1 -1 -1 -1 -1 -1 -1 -1 -1 -1 -1 -1 -1\n",
      " -1 -1 -1 -1 -1 -1 -1 -1 -1 -1 -1 -1 -1 -1 -1 -1 -1 -1 -1 -1 -1 -1 -1 -1 -1\n",
      " -1 -1 -1 -1 -1 -1 -1 -1 -1 -1 -1 -1 -1 -1 -1 -1 -1 -1 -1 -1 -1 -1 -1 -1 -1\n",
      " -1 -1 -1 -1 -1 -1 -1 -1 -1 -1 -1 -1 -1 -1 -1]\n",
      "0\n"
     ]
    },
    {
     "ename": "ValueError",
     "evalue": "Number of labels is 1. Valid values are 2 to n_samples - 1 (inclusive)",
     "output_type": "error",
     "traceback": [
      "\u001b[0;31m---------------------------------------------------------------------------\u001b[0m",
      "\u001b[0;31mValueError\u001b[0m                                Traceback (most recent call last)",
      "\u001b[0;32m<ipython-input-105-d9917a87e2f1>\u001b[0m in \u001b[0;36m<module>\u001b[0;34m()\u001b[0m\n\u001b[1;32m      3\u001b[0m \u001b[0mprint\u001b[0m\u001b[0;34m(\u001b[0m\u001b[0mlabels\u001b[0m\u001b[0;34m)\u001b[0m\u001b[0;34m\u001b[0m\u001b[0m\n\u001b[1;32m      4\u001b[0m \u001b[0mprint\u001b[0m\u001b[0;34m(\u001b[0m\u001b[0mn_clusters_\u001b[0m\u001b[0;34m)\u001b[0m\u001b[0;34m\u001b[0m\u001b[0m\n\u001b[0;32m----> 5\u001b[0;31m \u001b[0mscore\u001b[0m \u001b[0;34m=\u001b[0m \u001b[0mmetrics\u001b[0m\u001b[0;34m.\u001b[0m\u001b[0msilhouette_score\u001b[0m\u001b[0;34m(\u001b[0m\u001b[0mvecs\u001b[0m\u001b[0;34m,\u001b[0m \u001b[0mlabels\u001b[0m\u001b[0;34m,\u001b[0m \u001b[0mmetric\u001b[0m\u001b[0;34m=\u001b[0m\u001b[0;34m\"cosine\"\u001b[0m\u001b[0;34m)\u001b[0m\u001b[0;34m\u001b[0m\u001b[0m\n\u001b[0m\u001b[1;32m      6\u001b[0m \u001b[0mprint\u001b[0m\u001b[0;34m(\u001b[0m\u001b[0;34m\"Silhouette score = \"\u001b[0m\u001b[0;34m,\u001b[0m \u001b[0mscore\u001b[0m \u001b[0;34m)\u001b[0m\u001b[0;34m\u001b[0m\u001b[0m\n",
      "\u001b[0;32m~/anaconda3/lib/python3.5/site-packages/sklearn/metrics/cluster/unsupervised.py\u001b[0m in \u001b[0;36msilhouette_score\u001b[0;34m(X, labels, metric, sample_size, random_state, **kwds)\u001b[0m\n\u001b[1;32m     99\u001b[0m         \u001b[0;32melse\u001b[0m\u001b[0;34m:\u001b[0m\u001b[0;34m\u001b[0m\u001b[0m\n\u001b[1;32m    100\u001b[0m             \u001b[0mX\u001b[0m\u001b[0;34m,\u001b[0m \u001b[0mlabels\u001b[0m \u001b[0;34m=\u001b[0m \u001b[0mX\u001b[0m\u001b[0;34m[\u001b[0m\u001b[0mindices\u001b[0m\u001b[0;34m]\u001b[0m\u001b[0;34m,\u001b[0m \u001b[0mlabels\u001b[0m\u001b[0;34m[\u001b[0m\u001b[0mindices\u001b[0m\u001b[0;34m]\u001b[0m\u001b[0;34m\u001b[0m\u001b[0m\n\u001b[0;32m--> 101\u001b[0;31m     \u001b[0;32mreturn\u001b[0m \u001b[0mnp\u001b[0m\u001b[0;34m.\u001b[0m\u001b[0mmean\u001b[0m\u001b[0;34m(\u001b[0m\u001b[0msilhouette_samples\u001b[0m\u001b[0;34m(\u001b[0m\u001b[0mX\u001b[0m\u001b[0;34m,\u001b[0m \u001b[0mlabels\u001b[0m\u001b[0;34m,\u001b[0m \u001b[0mmetric\u001b[0m\u001b[0;34m=\u001b[0m\u001b[0mmetric\u001b[0m\u001b[0;34m,\u001b[0m \u001b[0;34m**\u001b[0m\u001b[0mkwds\u001b[0m\u001b[0;34m)\u001b[0m\u001b[0;34m)\u001b[0m\u001b[0;34m\u001b[0m\u001b[0m\n\u001b[0m\u001b[1;32m    102\u001b[0m \u001b[0;34m\u001b[0m\u001b[0m\n\u001b[1;32m    103\u001b[0m \u001b[0;34m\u001b[0m\u001b[0m\n",
      "\u001b[0;32m~/anaconda3/lib/python3.5/site-packages/sklearn/metrics/cluster/unsupervised.py\u001b[0m in \u001b[0;36msilhouette_samples\u001b[0;34m(X, labels, metric, **kwds)\u001b[0m\n\u001b[1;32m    165\u001b[0m     \u001b[0mle\u001b[0m \u001b[0;34m=\u001b[0m \u001b[0mLabelEncoder\u001b[0m\u001b[0;34m(\u001b[0m\u001b[0;34m)\u001b[0m\u001b[0;34m\u001b[0m\u001b[0m\n\u001b[1;32m    166\u001b[0m     \u001b[0mlabels\u001b[0m \u001b[0;34m=\u001b[0m \u001b[0mle\u001b[0m\u001b[0;34m.\u001b[0m\u001b[0mfit_transform\u001b[0m\u001b[0;34m(\u001b[0m\u001b[0mlabels\u001b[0m\u001b[0;34m)\u001b[0m\u001b[0;34m\u001b[0m\u001b[0m\n\u001b[0;32m--> 167\u001b[0;31m     \u001b[0mcheck_number_of_labels\u001b[0m\u001b[0;34m(\u001b[0m\u001b[0mlen\u001b[0m\u001b[0;34m(\u001b[0m\u001b[0mle\u001b[0m\u001b[0;34m.\u001b[0m\u001b[0mclasses_\u001b[0m\u001b[0;34m)\u001b[0m\u001b[0;34m,\u001b[0m \u001b[0mX\u001b[0m\u001b[0;34m.\u001b[0m\u001b[0mshape\u001b[0m\u001b[0;34m[\u001b[0m\u001b[0;36m0\u001b[0m\u001b[0;34m]\u001b[0m\u001b[0;34m)\u001b[0m\u001b[0;34m\u001b[0m\u001b[0m\n\u001b[0m\u001b[1;32m    168\u001b[0m \u001b[0;34m\u001b[0m\u001b[0m\n\u001b[1;32m    169\u001b[0m     \u001b[0mdistances\u001b[0m \u001b[0;34m=\u001b[0m \u001b[0mpairwise_distances\u001b[0m\u001b[0;34m(\u001b[0m\u001b[0mX\u001b[0m\u001b[0;34m,\u001b[0m \u001b[0mmetric\u001b[0m\u001b[0;34m=\u001b[0m\u001b[0mmetric\u001b[0m\u001b[0;34m,\u001b[0m \u001b[0;34m**\u001b[0m\u001b[0mkwds\u001b[0m\u001b[0;34m)\u001b[0m\u001b[0;34m\u001b[0m\u001b[0m\n",
      "\u001b[0;32m~/anaconda3/lib/python3.5/site-packages/sklearn/metrics/cluster/unsupervised.py\u001b[0m in \u001b[0;36mcheck_number_of_labels\u001b[0;34m(n_labels, n_samples)\u001b[0m\n\u001b[1;32m     17\u001b[0m     \u001b[0;32mif\u001b[0m \u001b[0;32mnot\u001b[0m \u001b[0;36m1\u001b[0m \u001b[0;34m<\u001b[0m \u001b[0mn_labels\u001b[0m \u001b[0;34m<\u001b[0m \u001b[0mn_samples\u001b[0m\u001b[0;34m:\u001b[0m\u001b[0;34m\u001b[0m\u001b[0m\n\u001b[1;32m     18\u001b[0m         raise ValueError(\"Number of labels is %d. Valid values are 2 \"\n\u001b[0;32m---> 19\u001b[0;31m                          \"to n_samples - 1 (inclusive)\" % n_labels)\n\u001b[0m\u001b[1;32m     20\u001b[0m \u001b[0;34m\u001b[0m\u001b[0m\n\u001b[1;32m     21\u001b[0m \u001b[0;34m\u001b[0m\u001b[0m\n",
      "\u001b[0;31mValueError\u001b[0m: Number of labels is 1. Valid values are 2 to n_samples - 1 (inclusive)"
     ]
    }
   ],
   "source": [
    "# Number of clusters in labels, ignoring noise if present.\n",
    "n_clusters_ = len(set(labels)) - (1 if -1 in labels else 0)\n",
    "print(labels)\n",
    "print(n_clusters_)\n",
    "score = metrics.silhouette_score(vecs, labels, metric=\"cosine\")\n",
    "print(\"Silhouette score = \", score )\n"
   ]
  },
  {
   "cell_type": "markdown",
   "metadata": {},
   "source": [
    "## Hierarchical Clustering"
   ]
  },
  {
   "cell_type": "code",
   "execution_count": 106,
   "metadata": {
    "collapsed": true
   },
   "outputs": [],
   "source": [
    "import collections\n",
    "import scipy.spatial.distance as ssd\n",
    "from scipy.spatial.distance import cdist\n",
    "from scipy.cluster.hierarchy import dendrogram, linkage, fcluster, cophenet"
   ]
  },
  {
   "cell_type": "code",
   "execution_count": 107,
   "metadata": {},
   "outputs": [
    {
     "data": {
      "image/png": "[encoded data removed]",
      "text/plain": [
       "<Figure size 432x288 with 1 Axes>"
      ]
     },
     "metadata": {},
     "output_type": "display_data"
    }
   ],
   "source": [
    "distMatrix = [ [0.0 for i in range(len(vecs))] for j in range(len(vecs))]\n",
    "dd = cdist(vecs, vecs)\n",
    "distArray = ssd.squareform(np.asmatrix(dd), checks = False)\n",
    "# distribution of pairwise distances\n",
    "plt.hist(distArray, edgecolor=\"white\")\n",
    "plt.show()"
   ]
  },
  {
   "cell_type": "code",
   "execution_count": 109,
   "metadata": {},
   "outputs": [
    {
     "name": "stdout",
     "output_type": "stream",
     "text": [
      "[ ward      ] Cophenetic =  0.43\n",
      "[ median    ] Cophenetic =  0.78\n",
      "[ average   ] Cophenetic =  0.84\n",
      "[ single    ] Cophenetic =  0.77\n",
      "[ complete  ] Cophenetic =  0.67\n",
      "Best method is ' average ' with best cophenet value =  0.837749489526\n"
     ]
    }
   ],
   "source": [
    "# Find the best hierarchical clustering method\n",
    "methods = [\"ward\", \"median\", \"average\", \"single\", \"complete\"]\n",
    "bestVal = 0.0\n",
    "bestMethod = \" \"\n",
    "for mm in methods:\n",
    "    Z = linkage(distArray, method=mm)\n",
    "    c, cophDist = cophenet(Z, distArray)\n",
    "    print(\"[ {0:10s}] Cophenetic = {1:5.2f}\".format(mm,c))\n",
    "    if c > bestVal:\n",
    "        bestVal = c\n",
    "        bestMethod = mm\n",
    "        \n",
    "#Z = linkage(distArray, method=bestMethod, optimal_ordering=True)\n",
    "print(\"Best method is '\", bestMethod, \"' with best cophenet value = \", bestVal)\n",
    "Z = linkage(distArray, method=bestMethod)"
   ]
  },
  {
   "cell_type": "code",
   "execution_count": 113,
   "metadata": {},
   "outputs": [
    {
     "data": {
      "image/png": "[encoded data removed]",
      "text/plain": [
       "<Figure size 1800x720 with 1 Axes>"
      ]
     },
     "metadata": {},
     "output_type": "display_data"
    }
   ],
   "source": [
    "plt.figure(figsize=(25,10))\n",
    "plt.title(\"Hierarchical Clustering Users\")\n",
    "pp= dendrogram(\n",
    "    Z,\n",
    "    leaf_rotation=90,\n",
    "    leaf_font_size=8.,\n",
    "    show_leaf_counts=True,\n",
    "    get_leaves=True,\n",
    "    truncate_mode=\"level\",\n",
    "    p = 10\n",
    ")\n",
    "plt.show()"
   ]
  },
  {
   "cell_type": "code",
   "execution_count": 118,
   "metadata": {},
   "outputs": [
    {
     "name": "stdout",
     "output_type": "stream",
     "text": [
      "Length labels vs idOriginal vs vecs 190 190 190\n"
     ]
    }
   ],
   "source": [
    "maxD = 60 # increase maxD to reduce depth.Therefore, the number of clusters created gets reduced\n",
    "labels = fcluster(Z, maxD, criterion=\"distance\")\n",
    "labels = labels - [1]*len(labels)\n",
    "print(\"Length labels vs idOriginal vs vecs\", len(labels), len(dfMap[\"id\"]), len(vecs))"
   ]
  },
  {
   "cell_type": "code",
   "execution_count": 119,
   "metadata": {},
   "outputs": [
    {
     "name": "stdout",
     "output_type": "stream",
     "text": [
      "Counter({27: 127, 6: 10, 16: 5, 21: 2, 24: 2, 25: 2, 26: 2, 0: 1, 1: 1, 2: 1, 3: 1, 4: 1, 5: 1, 7: 1, 8: 1, 9: 1, 10: 1, 11: 1, 12: 1, 13: 1, 14: 1, 15: 1, 17: 1, 18: 1, 19: 1, 20: 1, 22: 1, 23: 1, 28: 1, 29: 1, 30: 1, 31: 1, 32: 1, 33: 1, 34: 1, 35: 1, 36: 1, 37: 1, 38: 1, 39: 1, 40: 1, 41: 1, 42: 1, 43: 1, 44: 1, 45: 1, 46: 1})\n"
     ]
    },
    {
     "data": {
      "image/png": "[encoded data removed]",
      "text/plain": [
       "<Figure size 1800x720 with 1 Axes>"
      ]
     },
     "metadata": {},
     "output_type": "display_data"
    }
   ],
   "source": [
    "plt.figure(figsize=(25,10))\n",
    "counter=collections.Counter(labels)\n",
    "print(counter)\n",
    "bins = np.arange(min(labels),max(labels))\n",
    "plt.hist(labels, edgecolor=\"white\", bins=bins, linewidth=1.5, alpha=0.8)\n",
    "if len(bins) > 25:\n",
    "    rotation=\"vertical\"\n",
    "else:\n",
    "    rotation=\"horizontal\"\n",
    "plt.xticks(np.round(bins,0), rotation=rotation)\n",
    "plt.show()"
   ]
  }
 ],
 "metadata": {
  "kernelspec": {
   "display_name": "Python 3",
   "language": "python",
   "name": "python3"
  },
  "language_info": {
   "codemirror_mode": {
    "name": "ipython",
    "version": 3
   },
   "file_extension": ".py",
   "mimetype": "text/x-python",
   "name": "python",
   "nbconvert_exporter": "python",
   "pygments_lexer": "ipython3",
   "version": "3.5.0"
  }
 },
 "nbformat": 4,
 "nbformat_minor": 2
}
